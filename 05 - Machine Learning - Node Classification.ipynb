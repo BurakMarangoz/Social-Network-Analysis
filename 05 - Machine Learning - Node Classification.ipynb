{
 "cells": [
  {
   "cell_type": "code",
   "execution_count": 17,
   "id": "b38d3c14",
   "metadata": {},
   "outputs": [],
   "source": [
    "import warnings\n",
    "warnings.filterwarnings(\"ignore\")\n",
    "\n",
    "import networkx as nx\n",
    "import pandas as pd\n",
    "pd.options.display.max_columns = 100\n",
    "import numpy as np\n",
    "from IPython.display import display\n",
    "\n",
    "from node2vec import Node2Vec\n",
    "from graphrole import RecursiveFeatureExtractor\n",
    "\n",
    "from sklearn.model_selection import StratifiedKFold,cross_validate,train_test_split\n",
    "from sklearn.metrics import accuracy_score,f1_score\n",
    "from sklearn.pipeline import Pipeline\n",
    "from sklearn.preprocessing import StandardScaler\n",
    "from sklearn.preprocessing import LabelEncoder\n",
    "\n",
    "from tqdm import tqdm\n",
    "import optuna\n",
    "import logging\n",
    "optuna.logging.set_verbosity(optuna.logging.WARNING)\n",
    "\n",
    "# Dim. Red. and Feature Selection:\n",
    "from sklearn.feature_selection import RFECV\n",
    "from sklearn.decomposition import PCA\n",
    "\n",
    "# Engine selectors\n",
    "from feature_engine.selection import (DropConstantFeatures,DropDuplicateFeatures,SmartCorrelatedSelection,\n",
    "                                      DropCorrelatedFeatures)\n",
    "\n",
    "\n",
    "# Models:\n",
    "from sklearn.tree import DecisionTreeClassifier\n",
    "from xgboost import XGBClassifier\n",
    "from sklearn.discriminant_analysis import QuadraticDiscriminantAnalysis\n",
    "from sklearn.ensemble import RandomForestClassifier\n",
    "from sklearn.neural_network import MLPClassifier"
   ]
  },
  {
   "cell_type": "markdown",
   "id": "fce35d97",
   "metadata": {},
   "source": [
    "**Step: Reading edgelist and labels, creating graph**"
   ]
  },
  {
   "cell_type": "code",
   "execution_count": 2,
   "id": "e8b3ada4",
   "metadata": {},
   "outputs": [],
   "source": [
    "new_g = nx.read_edgelist('stdcommnet.edges')"
   ]
  },
  {
   "cell_type": "code",
   "execution_count": 3,
   "id": "0d0b6025",
   "metadata": {},
   "outputs": [],
   "source": [
    "labels = pd.read_csv('stddepartments.txt', sep=' ', index_col='stdid')"
   ]
  },
  {
   "cell_type": "markdown",
   "id": "aa759e3e",
   "metadata": {},
   "source": [
    "**Step: Feature creation**"
   ]
  },
  {
   "cell_type": "code",
   "execution_count": 4,
   "id": "22b7897e",
   "metadata": {},
   "outputs": [],
   "source": [
    "degree_centrality = nx.degree_centrality(new_g)\n",
    "betweenness_centrality = nx.betweenness_centrality(new_g)\n",
    "closeness_centrality = nx.closeness_centrality(new_g)\n",
    "pagerank = nx.pagerank(new_g)\n",
    "clustering_coefficient = nx.clustering(new_g)\n",
    "eigenvector_centrality = nx.eigenvector_centrality(new_g)\n",
    "triangles = nx.triangles(new_g)\n",
    "\n",
    "neighbourhood_size = {}\n",
    "for node in new_g.nodes():\n",
    "    neighbourhood_size[node] = new_g.degree(node)\n",
    "\n",
    "mean_external_connections = {}\n",
    "for node in new_g.nodes():\n",
    "    external_connections = sum(new_g.degree(neighbor) for neighbor in new_g.neighbors(node) if neighbor != node)\n",
    "    mean_external_connections[node] = external_connections / neighbourhood_size[node]\n",
    "\n",
    "node_centrality_difference = {}\n",
    "for node in new_g.nodes():\n",
    "    node_centrality_difference[node] = degree_centrality[node] - eigenvector_centrality[node]"
   ]
  },
  {
   "cell_type": "code",
   "execution_count": 5,
   "id": "35964602",
   "metadata": {},
   "outputs": [],
   "source": [
    "new_features = [closeness_centrality,pagerank,clustering_coefficient,eigenvector_centrality,\n",
    "                neighbourhood_size,mean_external_connections,node_centrality_difference,triangles]\n",
    "\n",
    "my_features_df = pd.DataFrame.from_dict(betweenness_centrality, orient ='index', columns=[\"col1\"]) \n",
    "\n",
    "for i in new_features:\n",
    "    df1 = pd.DataFrame.from_dict(i, orient ='index') \n",
    "    column_name = f'col{len(my_features_df.columns) + 1}'\n",
    "    my_features_df[column_name] = df1[0]"
   ]
  },
  {
   "cell_type": "code",
   "execution_count": 6,
   "id": "b0be45c7",
   "metadata": {
    "scrolled": true
   },
   "outputs": [
    {
     "data": {
      "text/html": [
       "<div>\n",
       "<style scoped>\n",
       "    .dataframe tbody tr th:only-of-type {\n",
       "        vertical-align: middle;\n",
       "    }\n",
       "\n",
       "    .dataframe tbody tr th {\n",
       "        vertical-align: top;\n",
       "    }\n",
       "\n",
       "    .dataframe thead th {\n",
       "        text-align: right;\n",
       "    }\n",
       "</style>\n",
       "<table border=\"1\" class=\"dataframe\">\n",
       "  <thead>\n",
       "    <tr style=\"text-align: right;\">\n",
       "      <th></th>\n",
       "      <th>col1</th>\n",
       "      <th>col2</th>\n",
       "      <th>col3</th>\n",
       "      <th>col4</th>\n",
       "      <th>col5</th>\n",
       "      <th>col6</th>\n",
       "      <th>col7</th>\n",
       "      <th>col8</th>\n",
       "      <th>col9</th>\n",
       "    </tr>\n",
       "  </thead>\n",
       "  <tbody>\n",
       "    <tr>\n",
       "      <th>0</th>\n",
       "      <td>0.004689</td>\n",
       "      <td>0.401620</td>\n",
       "      <td>0.003665</td>\n",
       "      <td>0.471014</td>\n",
       "      <td>0.035426</td>\n",
       "      <td>26</td>\n",
       "      <td>28.576923</td>\n",
       "      <td>0.039502</td>\n",
       "      <td>130</td>\n",
       "    </tr>\n",
       "    <tr>\n",
       "      <th>1</th>\n",
       "      <td>0.003313</td>\n",
       "      <td>0.400231</td>\n",
       "      <td>0.003522</td>\n",
       "      <td>0.383399</td>\n",
       "      <td>0.033586</td>\n",
       "      <td>25</td>\n",
       "      <td>30.360000</td>\n",
       "      <td>0.038460</td>\n",
       "      <td>97</td>\n",
       "    </tr>\n",
       "    <tr>\n",
       "      <th>316</th>\n",
       "      <td>0.001999</td>\n",
       "      <td>0.370331</td>\n",
       "      <td>0.003445</td>\n",
       "      <td>0.495238</td>\n",
       "      <td>0.023328</td>\n",
       "      <td>23</td>\n",
       "      <td>25.086957</td>\n",
       "      <td>0.042954</td>\n",
       "      <td>104</td>\n",
       "    </tr>\n",
       "    <tr>\n",
       "      <th>146</th>\n",
       "      <td>0.005588</td>\n",
       "      <td>0.398393</td>\n",
       "      <td>0.003061</td>\n",
       "      <td>0.279412</td>\n",
       "      <td>0.022315</td>\n",
       "      <td>19</td>\n",
       "      <td>27.157895</td>\n",
       "      <td>0.032440</td>\n",
       "      <td>38</td>\n",
       "    </tr>\n",
       "    <tr>\n",
       "      <th>221</th>\n",
       "      <td>0.008583</td>\n",
       "      <td>0.431592</td>\n",
       "      <td>0.005145</td>\n",
       "      <td>0.373874</td>\n",
       "      <td>0.056489</td>\n",
       "      <td>37</td>\n",
       "      <td>32.432432</td>\n",
       "      <td>0.050139</td>\n",
       "      <td>249</td>\n",
       "    </tr>\n",
       "  </tbody>\n",
       "</table>\n",
       "</div>"
      ],
      "text/plain": [
       "         col1      col2      col3      col4      col5  col6       col7   \n",
       "0    0.004689  0.401620  0.003665  0.471014  0.035426    26  28.576923  \\\n",
       "1    0.003313  0.400231  0.003522  0.383399  0.033586    25  30.360000   \n",
       "316  0.001999  0.370331  0.003445  0.495238  0.023328    23  25.086957   \n",
       "146  0.005588  0.398393  0.003061  0.279412  0.022315    19  27.157895   \n",
       "221  0.008583  0.431592  0.005145  0.373874  0.056489    37  32.432432   \n",
       "\n",
       "         col8  col9  \n",
       "0    0.039502   130  \n",
       "1    0.038460    97  \n",
       "316  0.042954   104  \n",
       "146  0.032440    38  \n",
       "221  0.050139   249  "
      ]
     },
     "execution_count": 6,
     "metadata": {},
     "output_type": "execute_result"
    }
   ],
   "source": [
    "my_features_df.head()"
   ]
  },
  {
   "cell_type": "markdown",
   "id": "e843e8be",
   "metadata": {},
   "source": [
    "# Kitchen sink:\n",
    "\n",
    "**I think the features extracted from Node2Vec,rolx and 9 feature that I created will be highly correlated. However, since I will use the DropConstantFeatures, DropDuplicateFeatures, DropCorrelatedFeatures, SmartCorrelatedSelection functions from the feature engine library in the pipeline, I continue with a method similar to the \"kitchen sink\".**"
   ]
  },
  {
   "cell_type": "code",
   "execution_count": 7,
   "id": "412f95d2",
   "metadata": {},
   "outputs": [],
   "source": [
    "def preprocess_for_ml(a,b,c,d,e):\n",
    "    n2v = Node2Vec(new_g, dimensions=a, num_walks=b, walk_length=c, p=d, q=e)\n",
    "    n2v_model = n2v.fit(window=4, min_count=1, batch_words=4)\n",
    "    \n",
    "    n2vrep = dict()\n",
    "    for node in new_g.nodes():\n",
    "        n2vrep[node] = n2v_model.wv[str(node)]\n",
    "    df_n2v = pd.DataFrame(n2vrep).T\n",
    "\n",
    "    feat_ext = RecursiveFeatureExtractor(new_g, max_generations=5)\n",
    "    rolx_feats = feat_ext.extract_features()\n",
    "    df_feats_all = pd.merge(df_n2v, rolx_feats, left_index=True, right_index=True)\n",
    "\n",
    "    df_feats_all.index = df_feats_all.index.astype(np.int64, copy=True)\n",
    "    df_data = pd.merge(df_feats_all, labels, left_index=True, right_index=True)\n",
    "    df_data.columns = df_data.columns.astype(str)\n",
    "\n",
    "    my_features_df.index = my_features_df.index.astype(np.int64, copy=True)\n",
    "    kitchen_sink_df = pd.merge(df_data, my_features_df, left_index=True, right_index=True)\n",
    "\n",
    "    unknowns = kitchen_sink_df[kitchen_sink_df.label=='unknown']\n",
    "    raw_df = kitchen_sink_df[kitchen_sink_df.label!='unknown']\n",
    "\n",
    "    X = raw_df.drop(columns=['label'])\n",
    "    y = raw_df.label\n",
    "    X_unknown=unknowns.drop(columns=['label'])\n",
    "\n",
    "    X_train, X_test, y_train, y_test = train_test_split(X, y, test_size=0.3, stratify=y, random_state=42)\n",
    "\n",
    "    le = LabelEncoder()\n",
    "    y_train_encoded = le.fit_transform(y_train)\n",
    "    y_test_encoded = le.transform(y_test)\n",
    "    return n2v_model, X_train, X_test, y_train_encoded, y_test_encoded, X_unknown"
   ]
  },
  {
   "cell_type": "code",
   "execution_count": 8,
   "id": "ec5c8852",
   "metadata": {},
   "outputs": [],
   "source": [
    "estimator = DecisionTreeClassifier(random_state=42)\n",
    "scoring = \"f1_macro\""
   ]
  },
  {
   "cell_type": "markdown",
   "id": "9d33f85d",
   "metadata": {},
   "source": [
    "**For the dimensions, num_walks, walk_length, p and q values, I will try the following values as combinations.**\n",
    "\n",
    "**For each trial, I will apply 2 different methods as dimensity reduction and feature selection.**\n",
    "\n",
    "**I will build models with Random Forest, XGB, QDA and MLP. While choosing these models, I paid attention to their algorithms being 4 different approaches.**"
   ]
  },
  {
   "cell_type": "code",
   "execution_count": 9,
   "id": "fd7a25a8",
   "metadata": {},
   "outputs": [],
   "source": [
    "dim_list = [8,10]\n",
    "walk_list = [12,15]\n",
    "walk_dist = [8,10]\n",
    "p_list = [0.5, 0.7]\n",
    "q_list = [2,3]\n",
    "\n",
    "# Clfs\n",
    "classifier_list = [RandomForestClassifier(random_state=42),XGBClassifier(),\n",
    "                   QuadraticDiscriminantAnalysis(),MLPClassifier(random_state=42)]\n",
    "\n",
    "classifier_names = [\"RFC\",\"XGB\",\"Quad\",\"MLP\"]\n",
    "\n",
    "# Selectors\n",
    "reduction_list = [PCA(n_components=0.95,random_state=42),RFECV(estimator=estimator,scoring=scoring)]"
   ]
  },
  {
   "cell_type": "markdown",
   "id": "559224f2",
   "metadata": {},
   "source": [
    "**Cross validation with 5 stratified splits:**"
   ]
  },
  {
   "cell_type": "code",
   "execution_count": 10,
   "id": "c04bf792",
   "metadata": {},
   "outputs": [],
   "source": [
    "kf = StratifiedKFold(n_splits=5, shuffle=True, random_state=42)"
   ]
  },
  {
   "cell_type": "markdown",
   "id": "9426a5b2",
   "metadata": {},
   "source": [
    "**For hyperparameter tuning, I will use optuna** "
   ]
  },
  {
   "cell_type": "code",
   "execution_count": 11,
   "id": "6144efc2",
   "metadata": {},
   "outputs": [],
   "source": [
    "def objective(trial):\n",
    "    if i == 0:  # RandomForestClassifier\n",
    "        params = {'n_estimators': trial.suggest_int('n_estimators', 150, 300),\n",
    "                  'max_depth': trial.suggest_int('max_depth', 4,7),\n",
    "                  'min_samples_split': trial.suggest_int('min_samples_split', 6,8),\n",
    "                  'min_samples_leaf': trial.suggest_int('min_samples_leaf', 1, 5),\n",
    "                  'max_features': trial.suggest_categorical('max_features', ['sqrt', 'auto'])}\n",
    "        \n",
    "    elif i == 1:  # XGBClassifier\n",
    "        params = {'learning_rate': trial.suggest_float('learning_rate', 0.1, 0.2),\n",
    "                  'max_depth': trial.suggest_int('max_depth', 9, 10),\n",
    "                  'subsample': trial.suggest_float('subsample', 0.7, 1.0),\n",
    "                  'colsample_bytree': trial.suggest_float('colsample_bytree', 0.5, 0.9),\n",
    "                  'reg_alpha': trial.suggest_float('reg_alpha', 0.0, 0.3),\n",
    "                  'reg_lambda': trial.suggest_float('reg_lambda', 0.8, 1.0)}\n",
    "        \n",
    "    elif i == 2:  # QuadraticDiscriminantAnalysis\n",
    "        params = {'reg_param': trial.suggest_float('reg_param', 0.4, 1.0)}\n",
    "        \n",
    "    elif i == 3:  # MLPClassifier\n",
    "        params = {'hidden_layer_sizes': trial.suggest_int('hidden_layer_sizes', 100, 150),\n",
    "                  'activation': trial.suggest_categorical('activation', ['relu']),\n",
    "                  'solver': trial.suggest_categorical('solver', ['adam']),\n",
    "                  'alpha': trial.suggest_float('alpha', 0.0002, 0.0005),\n",
    "                  'learning_rate_init': trial.suggest_float('learning_rate_init', 0.005, 0.010)}\n",
    "\n",
    "    classifier_list[i].fit(X_train, y_train_encoded)\n",
    "    preds = classifier_list[i].predict(X_test)\n",
    "    score = f1_score(y_test_encoded, preds, average='macro')\n",
    "\n",
    "    return score"
   ]
  },
  {
   "cell_type": "code",
   "execution_count": 12,
   "id": "6b463228",
   "metadata": {},
   "outputs": [],
   "source": [
    "def get_best_params():\n",
    "    if i == 0:\n",
    "        best_model = RandomForestClassifier(**best_params)\n",
    "    elif i == 1:\n",
    "        best_model = XGBClassifier(**best_params)\n",
    "    elif i == 2:\n",
    "        best_model = QuadraticDiscriminantAnalysis(**best_params)\n",
    "    elif i == 3:\n",
    "        best_model = MLPClassifier(**best_params)\n",
    "    return best_model"
   ]
  },
  {
   "cell_type": "markdown",
   "id": "7bb09286",
   "metadata": {},
   "source": [
    "**Trials with loops and collecting results in lists**"
   ]
  },
  {
   "cell_type": "code",
   "execution_count": 18,
   "id": "8265a340",
   "metadata": {
    "scrolled": true
   },
   "outputs": [
    {
     "name": "stderr",
     "output_type": "stream",
     "text": [
      "  0%|                                                                                            | 0/2 [00:00<?, ?it/s]\n",
      "  0%|                                                                                            | 0/2 [00:00<?, ?it/s]\u001b[A\n",
      "\n",
      "  0%|                                                                                            | 0/2 [00:00<?, ?it/s]\u001b[A\u001b[A\n",
      "\n",
      "\n",
      "  0%|                                                                                            | 0/2 [00:00<?, ?it/s]\u001b[A\u001b[A\u001b[A\n",
      "\n",
      "\n",
      "\n",
      "  0%|                                                                                            | 0/2 [00:00<?, ?it/s]\u001b[A\u001b[A\u001b[A\u001b[A"
     ]
    },
    {
     "data": {
      "application/vnd.jupyter.widget-view+json": {
       "model_id": "0bfeb9d27fc3420f8e8df544fd3573c8",
       "version_major": 2,
       "version_minor": 0
      },
      "text/plain": [
       "Computing transition probabilities:   0%|          | 0/348 [00:00<?, ?it/s]"
      ]
     },
     "metadata": {},
     "output_type": "display_data"
    },
    {
     "name": "stderr",
     "output_type": "stream",
     "text": [
      "\n",
      "\n",
      "\n",
      "\n",
      "\n",
      "Generating walks (CPU: 1):   0%|                                                                | 0/12 [00:00<?, ?it/s]\u001b[A\u001b[A\u001b[A\u001b[A\u001b[A\n",
      "\n",
      "\n",
      "\n",
      "\n",
      "Generating walks (CPU: 1): 100%|███████████████████████████████████████████████████████| 12/12 [00:00<00:00, 62.53it/s]\u001b[A\u001b[A\u001b[A\u001b[A\u001b[A\n",
      "\n",
      "\n",
      "\n",
      "\n",
      " 50%|█████████████████████████████████████████▌                                         | 1/2 [03:52<03:52, 232.75s/it]\u001b[A\u001b[A\u001b[A\u001b[A"
     ]
    },
    {
     "data": {
      "application/vnd.jupyter.widget-view+json": {
       "model_id": "3fc91d115bd9431f99f5f3d84095da2c",
       "version_major": 2,
       "version_minor": 0
      },
      "text/plain": [
       "Computing transition probabilities:   0%|          | 0/348 [00:00<?, ?it/s]"
      ]
     },
     "metadata": {},
     "output_type": "display_data"
    },
    {
     "name": "stderr",
     "output_type": "stream",
     "text": [
      "\n",
      "\n",
      "\n",
      "\n",
      "\n",
      "Generating walks (CPU: 1):   0%|                                                                | 0/12 [00:00<?, ?it/s]\u001b[A\u001b[A\u001b[A\u001b[A\u001b[A\n",
      "\n",
      "\n",
      "\n",
      "\n",
      "Generating walks (CPU: 1): 100%|███████████████████████████████████████████████████████| 12/12 [00:00<00:00, 49.47it/s]\u001b[A\u001b[A\u001b[A\u001b[A\u001b[A\n",
      "\n",
      "\n",
      "\n",
      "\n",
      "100%|███████████████████████████████████████████████████████████████████████████████████| 2/2 [06:57<00:00, 208.96s/it]\u001b[A\u001b[A\u001b[A\u001b[A\n",
      "\n",
      "\n",
      "\n",
      " 50%|█████████████████████████████████████████▌                                         | 1/2 [06:57<06:57, 417.92s/it]\u001b[A\u001b[A\u001b[A\n",
      "\n",
      "\n",
      "\n",
      "  0%|                                                                                            | 0/2 [00:00<?, ?it/s]\u001b[A\u001b[A\u001b[A\u001b[A"
     ]
    },
    {
     "data": {
      "application/vnd.jupyter.widget-view+json": {
       "model_id": "98bcb647450c4e2d89a0d4612c9575bd",
       "version_major": 2,
       "version_minor": 0
      },
      "text/plain": [
       "Computing transition probabilities:   0%|          | 0/348 [00:00<?, ?it/s]"
      ]
     },
     "metadata": {},
     "output_type": "display_data"
    },
    {
     "name": "stderr",
     "output_type": "stream",
     "text": [
      "\n",
      "\n",
      "\n",
      "\n",
      "\n",
      "Generating walks (CPU: 1):   0%|                                                                | 0/12 [00:00<?, ?it/s]\u001b[A\u001b[A\u001b[A\u001b[A\u001b[A\n",
      "\n",
      "\n",
      "\n",
      "\n",
      "Generating walks (CPU: 1): 100%|███████████████████████████████████████████████████████| 12/12 [00:00<00:00, 59.20it/s]\u001b[A\u001b[A\u001b[A\u001b[A\u001b[A\n",
      "\n",
      "\n",
      "\n",
      "\n",
      " 50%|█████████████████████████████████████████▌                                         | 1/2 [03:09<03:09, 189.74s/it]\u001b[A\u001b[A\u001b[A\u001b[A"
     ]
    },
    {
     "data": {
      "application/vnd.jupyter.widget-view+json": {
       "model_id": "14b2045c1efd460a8c7fd50a67b04ca1",
       "version_major": 2,
       "version_minor": 0
      },
      "text/plain": [
       "Computing transition probabilities:   0%|          | 0/348 [00:00<?, ?it/s]"
      ]
     },
     "metadata": {},
     "output_type": "display_data"
    },
    {
     "name": "stderr",
     "output_type": "stream",
     "text": [
      "\n",
      "\n",
      "\n",
      "\n",
      "\n",
      "Generating walks (CPU: 1):   0%|                                                                | 0/12 [00:00<?, ?it/s]\u001b[A\u001b[A\u001b[A\u001b[A\u001b[A\n",
      "\n",
      "\n",
      "\n",
      "\n",
      "Generating walks (CPU: 1): 100%|███████████████████████████████████████████████████████| 12/12 [00:00<00:00, 51.15it/s]\u001b[A\u001b[A\u001b[A\u001b[A\u001b[A\n",
      "\n",
      "\n",
      "\n",
      "\n",
      "100%|███████████████████████████████████████████████████████████████████████████████████| 2/2 [06:34<00:00, 197.14s/it]\u001b[A\u001b[A\u001b[A\u001b[A\n",
      "\n",
      "\n",
      "\n",
      "100%|███████████████████████████████████████████████████████████████████████████████████| 2/2 [13:32<00:00, 406.10s/it]\u001b[A\u001b[A\u001b[A\n",
      "\n",
      "\n",
      " 50%|█████████████████████████████████████████▌                                         | 1/2 [13:32<13:32, 812.21s/it]\u001b[A\u001b[A\n",
      "\n",
      "\n",
      "  0%|                                                                                            | 0/2 [00:00<?, ?it/s]\u001b[A\u001b[A\u001b[A\n",
      "\n",
      "\n",
      "\n",
      "  0%|                                                                                            | 0/2 [00:00<?, ?it/s]\u001b[A\u001b[A\u001b[A\u001b[A"
     ]
    },
    {
     "data": {
      "application/vnd.jupyter.widget-view+json": {
       "model_id": "719a208db336409f88e4c52416565935",
       "version_major": 2,
       "version_minor": 0
      },
      "text/plain": [
       "Computing transition probabilities:   0%|          | 0/348 [00:00<?, ?it/s]"
      ]
     },
     "metadata": {},
     "output_type": "display_data"
    },
    {
     "name": "stderr",
     "output_type": "stream",
     "text": [
      "\n",
      "\n",
      "\n",
      "\n",
      "\n",
      "Generating walks (CPU: 1):   0%|                                                                | 0/12 [00:00<?, ?it/s]\u001b[A\u001b[A\u001b[A\u001b[A\u001b[A\n",
      "\n",
      "\n",
      "\n",
      "\n",
      "Generating walks (CPU: 1):  50%|████████████████████████████                            | 6/12 [00:00<00:00, 54.56it/s]\u001b[A\u001b[A\u001b[A\u001b[A\u001b[A\n",
      "\n",
      "\n",
      "\n",
      "\n",
      "Generating walks (CPU: 1): 100%|███████████████████████████████████████████████████████| 12/12 [00:00<00:00, 40.27it/s]\u001b[A\u001b[A\u001b[A\u001b[A\u001b[A\n",
      "\n",
      "\n",
      "\n",
      "\n",
      " 50%|█████████████████████████████████████████▌                                         | 1/2 [03:06<03:06, 186.16s/it]\u001b[A\u001b[A\u001b[A\u001b[A"
     ]
    },
    {
     "data": {
      "application/vnd.jupyter.widget-view+json": {
       "model_id": "96c29ae5c15e4620893c515cb007ed6c",
       "version_major": 2,
       "version_minor": 0
      },
      "text/plain": [
       "Computing transition probabilities:   0%|          | 0/348 [00:00<?, ?it/s]"
      ]
     },
     "metadata": {},
     "output_type": "display_data"
    },
    {
     "name": "stderr",
     "output_type": "stream",
     "text": [
      "\n",
      "\n",
      "\n",
      "\n",
      "\n",
      "Generating walks (CPU: 1):   0%|                                                                | 0/12 [00:00<?, ?it/s]\u001b[A\u001b[A\u001b[A\u001b[A\u001b[A\n",
      "\n",
      "\n",
      "\n",
      "\n",
      "Generating walks (CPU: 1):  50%|████████████████████████████                            | 6/12 [00:00<00:00, 54.54it/s]\u001b[A\u001b[A\u001b[A\u001b[A\u001b[A\n",
      "\n",
      "\n",
      "\n",
      "\n",
      "Generating walks (CPU: 1): 100%|███████████████████████████████████████████████████████| 12/12 [00:00<00:00, 47.14it/s]\u001b[A\u001b[A\u001b[A\u001b[A\u001b[A\n",
      "\n",
      "\n",
      "\n",
      "\n",
      "100%|███████████████████████████████████████████████████████████████████████████████████| 2/2 [06:32<00:00, 196.02s/it]\u001b[A\u001b[A\u001b[A\u001b[A\n",
      "\n",
      "\n",
      "\n",
      " 50%|█████████████████████████████████████████▌                                         | 1/2 [06:32<06:32, 392.04s/it]\u001b[A\u001b[A\u001b[A\n",
      "\n",
      "\n",
      "\n",
      "  0%|                                                                                            | 0/2 [00:00<?, ?it/s]\u001b[A\u001b[A\u001b[A\u001b[A"
     ]
    },
    {
     "data": {
      "application/vnd.jupyter.widget-view+json": {
       "model_id": "d79b6e89772043d1ac64ce70369f88c7",
       "version_major": 2,
       "version_minor": 0
      },
      "text/plain": [
       "Computing transition probabilities:   0%|          | 0/348 [00:00<?, ?it/s]"
      ]
     },
     "metadata": {},
     "output_type": "display_data"
    },
    {
     "name": "stderr",
     "output_type": "stream",
     "text": [
      "\n",
      "\n",
      "\n",
      "\n",
      "\n",
      "Generating walks (CPU: 1):   0%|                                                                | 0/12 [00:00<?, ?it/s]\u001b[A\u001b[A\u001b[A\u001b[A\u001b[A\n",
      "\n",
      "\n",
      "\n",
      "\n",
      "Generating walks (CPU: 1):  50%|████████████████████████████                            | 6/12 [00:00<00:00, 56.63it/s]\u001b[A\u001b[A\u001b[A\u001b[A\u001b[A\n",
      "\n",
      "\n",
      "\n",
      "\n",
      "Generating walks (CPU: 1): 100%|███████████████████████████████████████████████████████| 12/12 [00:00<00:00, 43.30it/s]\u001b[A\u001b[A\u001b[A\u001b[A\u001b[A\n",
      "\n",
      "\n",
      "\n",
      "\n",
      " 50%|█████████████████████████████████████████▌                                         | 1/2 [03:41<03:41, 221.15s/it]\u001b[A\u001b[A\u001b[A\u001b[A"
     ]
    },
    {
     "data": {
      "application/vnd.jupyter.widget-view+json": {
       "model_id": "e8e1c140dd02411d82e08112aa3b814c",
       "version_major": 2,
       "version_minor": 0
      },
      "text/plain": [
       "Computing transition probabilities:   0%|          | 0/348 [00:00<?, ?it/s]"
      ]
     },
     "metadata": {},
     "output_type": "display_data"
    },
    {
     "name": "stderr",
     "output_type": "stream",
     "text": [
      "\n",
      "\n",
      "\n",
      "\n",
      "\n",
      "Generating walks (CPU: 1):   0%|                                                                | 0/12 [00:00<?, ?it/s]\u001b[A\u001b[A\u001b[A\u001b[A\u001b[A\n",
      "\n",
      "\n",
      "\n",
      "\n",
      "Generating walks (CPU: 1):  42%|███████████████████████▎                                | 5/12 [00:00<00:00, 48.53it/s]\u001b[A\u001b[A\u001b[A\u001b[A\u001b[A\n",
      "\n",
      "\n",
      "\n",
      "\n",
      "Generating walks (CPU: 1): 100%|███████████████████████████████████████████████████████| 12/12 [00:00<00:00, 40.18it/s]\u001b[A\u001b[A\u001b[A\u001b[A\u001b[A\n",
      "\n",
      "\n",
      "\n",
      "\n",
      "100%|███████████████████████████████████████████████████████████████████████████████████| 2/2 [07:06<00:00, 213.26s/it]\u001b[A\u001b[A\u001b[A\u001b[A\n",
      "\n",
      "\n",
      "\n",
      "100%|███████████████████████████████████████████████████████████████████████████████████| 2/2 [13:38<00:00, 409.29s/it]\u001b[A\u001b[A\u001b[A\n",
      "\n",
      "\n",
      "100%|███████████████████████████████████████████████████████████████████████████████████| 2/2 [27:10<00:00, 815.40s/it]\u001b[A\u001b[A\n",
      "\n",
      " 50%|█████████████████████████████████████████                                         | 1/2 [27:10<27:10, 1630.80s/it]\u001b[A\n",
      "\n",
      "  0%|                                                                                            | 0/2 [00:00<?, ?it/s]\u001b[A\u001b[A\n",
      "\n",
      "\n",
      "  0%|                                                                                            | 0/2 [00:00<?, ?it/s]\u001b[A\u001b[A\u001b[A\n",
      "\n",
      "\n",
      "\n",
      "  0%|                                                                                            | 0/2 [00:00<?, ?it/s]\u001b[A\u001b[A\u001b[A\u001b[A"
     ]
    },
    {
     "data": {
      "application/vnd.jupyter.widget-view+json": {
       "model_id": "e54e53234afc4dbc98640c7ace1b7896",
       "version_major": 2,
       "version_minor": 0
      },
      "text/plain": [
       "Computing transition probabilities:   0%|          | 0/348 [00:00<?, ?it/s]"
      ]
     },
     "metadata": {},
     "output_type": "display_data"
    },
    {
     "name": "stderr",
     "output_type": "stream",
     "text": [
      "\n",
      "\n",
      "\n",
      "\n",
      "\n",
      "Generating walks (CPU: 1):   0%|                                                                | 0/15 [00:00<?, ?it/s]\u001b[A\u001b[A\u001b[A\u001b[A\u001b[A\n",
      "\n",
      "\n",
      "\n",
      "\n",
      "Generating walks (CPU: 1):  47%|██████████████████████████▏                             | 7/15 [00:00<00:00, 64.19it/s]\u001b[A\u001b[A\u001b[A\u001b[A\u001b[A\n",
      "\n",
      "\n",
      "\n",
      "\n",
      "Generating walks (CPU: 1): 100%|███████████████████████████████████████████████████████| 15/15 [00:00<00:00, 60.15it/s]\u001b[A\u001b[A\u001b[A\u001b[A\u001b[A\n",
      "\n",
      "\n",
      "\n",
      "\n",
      " 50%|█████████████████████████████████████████▌                                         | 1/2 [03:49<03:49, 229.89s/it]\u001b[A\u001b[A\u001b[A\u001b[A"
     ]
    },
    {
     "data": {
      "application/vnd.jupyter.widget-view+json": {
       "model_id": "ecdcea0df9a24770aa3f771c39060f0c",
       "version_major": 2,
       "version_minor": 0
      },
      "text/plain": [
       "Computing transition probabilities:   0%|          | 0/348 [00:00<?, ?it/s]"
      ]
     },
     "metadata": {},
     "output_type": "display_data"
    },
    {
     "name": "stderr",
     "output_type": "stream",
     "text": [
      "\n",
      "\n",
      "\n",
      "\n",
      "\n",
      "Generating walks (CPU: 1):   0%|                                                                | 0/15 [00:00<?, ?it/s]\u001b[A\u001b[A\u001b[A\u001b[A\u001b[A\n",
      "\n",
      "\n",
      "\n",
      "\n",
      "Generating walks (CPU: 1):  40%|██████████████████████▍                                 | 6/15 [00:00<00:00, 52.34it/s]\u001b[A\u001b[A\u001b[A\u001b[A\u001b[A\n",
      "\n",
      "\n",
      "\n",
      "\n",
      "Generating walks (CPU: 1): 100%|███████████████████████████████████████████████████████| 15/15 [00:00<00:00, 35.60it/s]\u001b[A\u001b[A\u001b[A\u001b[A\u001b[A\n",
      "\n",
      "\n",
      "\n",
      "\n",
      "100%|███████████████████████████████████████████████████████████████████████████████████| 2/2 [07:15<00:00, 217.94s/it]\u001b[A\u001b[A\u001b[A\u001b[A\n",
      "\n",
      "\n",
      "\n",
      " 50%|█████████████████████████████████████████▌                                         | 1/2 [07:15<07:15, 435.88s/it]\u001b[A\u001b[A\u001b[A\n",
      "\n",
      "\n",
      "\n",
      "  0%|                                                                                            | 0/2 [00:00<?, ?it/s]\u001b[A\u001b[A\u001b[A\u001b[A"
     ]
    },
    {
     "data": {
      "application/vnd.jupyter.widget-view+json": {
       "model_id": "384c148ab6d4414eb4e51b1c7fc2b915",
       "version_major": 2,
       "version_minor": 0
      },
      "text/plain": [
       "Computing transition probabilities:   0%|          | 0/348 [00:00<?, ?it/s]"
      ]
     },
     "metadata": {},
     "output_type": "display_data"
    },
    {
     "name": "stderr",
     "output_type": "stream",
     "text": [
      "\n",
      "\n",
      "\n",
      "\n",
      "\n",
      "Generating walks (CPU: 1):   0%|                                                                | 0/15 [00:00<?, ?it/s]\u001b[A\u001b[A\u001b[A\u001b[A\u001b[A\n",
      "\n",
      "\n",
      "\n",
      "\n",
      "Generating walks (CPU: 1):  47%|██████████████████████████▏                             | 7/15 [00:00<00:00, 63.53it/s]\u001b[A\u001b[A\u001b[A\u001b[A\u001b[A\n",
      "\n",
      "\n",
      "\n",
      "\n",
      "Generating walks (CPU: 1): 100%|███████████████████████████████████████████████████████| 15/15 [00:00<00:00, 54.52it/s]\u001b[A\u001b[A\u001b[A\u001b[A\u001b[A\n",
      "\n",
      "\n",
      "\n",
      "\n",
      " 50%|█████████████████████████████████████████▌                                         | 1/2 [03:45<03:45, 225.53s/it]\u001b[A\u001b[A\u001b[A\u001b[A"
     ]
    },
    {
     "data": {
      "application/vnd.jupyter.widget-view+json": {
       "model_id": "3178cc1c60624b1bbd996a9b56cdf2af",
       "version_major": 2,
       "version_minor": 0
      },
      "text/plain": [
       "Computing transition probabilities:   0%|          | 0/348 [00:00<?, ?it/s]"
      ]
     },
     "metadata": {},
     "output_type": "display_data"
    },
    {
     "name": "stderr",
     "output_type": "stream",
     "text": [
      "\n",
      "\n",
      "\n",
      "\n",
      "\n",
      "Generating walks (CPU: 1):   0%|                                                                | 0/15 [00:00<?, ?it/s]\u001b[A\u001b[A\u001b[A\u001b[A\u001b[A\n",
      "\n",
      "\n",
      "\n",
      "\n",
      "Generating walks (CPU: 1):  53%|█████████████████████████████▊                          | 8/15 [00:00<00:00, 68.25it/s]\u001b[A\u001b[A\u001b[A\u001b[A\u001b[A\n",
      "\n",
      "\n",
      "\n",
      "\n",
      "Generating walks (CPU: 1): 100%|███████████████████████████████████████████████████████| 15/15 [00:00<00:00, 57.02it/s]\u001b[A\u001b[A\u001b[A\u001b[A\u001b[A\n",
      "\n",
      "\n",
      "\n",
      "\n",
      "100%|███████████████████████████████████████████████████████████████████████████████████| 2/2 [07:28<00:00, 224.30s/it]\u001b[A\u001b[A\u001b[A\u001b[A\n",
      "\n",
      "\n",
      "\n",
      "100%|███████████████████████████████████████████████████████████████████████████████████| 2/2 [14:44<00:00, 442.25s/it]\u001b[A\u001b[A\u001b[A\n",
      "\n",
      "\n",
      " 50%|█████████████████████████████████████████▌                                         | 1/2 [14:44<14:44, 884.49s/it]\u001b[A\u001b[A\n",
      "\n",
      "\n",
      "  0%|                                                                                            | 0/2 [00:00<?, ?it/s]\u001b[A\u001b[A\u001b[A\n",
      "\n",
      "\n",
      "\n",
      "  0%|                                                                                            | 0/2 [00:00<?, ?it/s]\u001b[A\u001b[A\u001b[A\u001b[A"
     ]
    },
    {
     "data": {
      "application/vnd.jupyter.widget-view+json": {
       "model_id": "bcf1142a458f4925af22b9ad1828187a",
       "version_major": 2,
       "version_minor": 0
      },
      "text/plain": [
       "Computing transition probabilities:   0%|          | 0/348 [00:00<?, ?it/s]"
      ]
     },
     "metadata": {},
     "output_type": "display_data"
    },
    {
     "name": "stderr",
     "output_type": "stream",
     "text": [
      "\n",
      "\n",
      "\n",
      "\n",
      "\n",
      "Generating walks (CPU: 1):   0%|                                                                | 0/15 [00:00<?, ?it/s]\u001b[A\u001b[A\u001b[A\u001b[A\u001b[A\n",
      "\n",
      "\n",
      "\n",
      "\n",
      "Generating walks (CPU: 1):  40%|██████████████████████▍                                 | 6/15 [00:00<00:00, 54.81it/s]\u001b[A\u001b[A\u001b[A\u001b[A\u001b[A\n",
      "\n",
      "\n",
      "\n",
      "\n",
      "Generating walks (CPU: 1): 100%|███████████████████████████████████████████████████████| 15/15 [00:00<00:00, 47.76it/s]\u001b[A\u001b[A\u001b[A\u001b[A\u001b[A\n",
      "\n",
      "\n",
      "\n",
      "\n",
      " 50%|█████████████████████████████████████████▌                                         | 1/2 [03:44<03:44, 224.02s/it]\u001b[A\u001b[A\u001b[A\u001b[A"
     ]
    },
    {
     "data": {
      "application/vnd.jupyter.widget-view+json": {
       "model_id": "668ff9af00974406bfc3a8d70dd54f0c",
       "version_major": 2,
       "version_minor": 0
      },
      "text/plain": [
       "Computing transition probabilities:   0%|          | 0/348 [00:00<?, ?it/s]"
      ]
     },
     "metadata": {},
     "output_type": "display_data"
    },
    {
     "name": "stderr",
     "output_type": "stream",
     "text": [
      "\n",
      "\n",
      "\n",
      "\n",
      "\n",
      "Generating walks (CPU: 1):   0%|                                                                | 0/15 [00:00<?, ?it/s]\u001b[A\u001b[A\u001b[A\u001b[A\u001b[A\n",
      "\n",
      "\n",
      "\n",
      "\n",
      "Generating walks (CPU: 1):  33%|██████████████████▋                                     | 5/15 [00:00<00:00, 42.19it/s]\u001b[A\u001b[A\u001b[A\u001b[A\u001b[A\n",
      "\n",
      "\n",
      "\n",
      "\n",
      "Generating walks (CPU: 1):  67%|████████████████████████████████████▋                  | 10/15 [00:00<00:00, 40.91it/s]\u001b[A\u001b[A\u001b[A\u001b[A\u001b[A\n",
      "\n",
      "\n",
      "\n",
      "\n",
      "Generating walks (CPU: 1): 100%|███████████████████████████████████████████████████████| 15/15 [00:00<00:00, 30.59it/s]\u001b[A\u001b[A\u001b[A\u001b[A\u001b[A\n",
      "\n",
      "\n",
      "\n",
      "\n",
      "100%|███████████████████████████████████████████████████████████████████████████████████| 2/2 [07:09<00:00, 214.81s/it]\u001b[A\u001b[A\u001b[A\u001b[A\n",
      "\n",
      "\n",
      "\n",
      " 50%|█████████████████████████████████████████▌                                         | 1/2 [07:09<07:09, 429.62s/it]\u001b[A\u001b[A\u001b[A\n",
      "\n",
      "\n",
      "\n",
      "  0%|                                                                                            | 0/2 [00:00<?, ?it/s]\u001b[A\u001b[A\u001b[A\u001b[A"
     ]
    },
    {
     "data": {
      "application/vnd.jupyter.widget-view+json": {
       "model_id": "e5d5c17d0d6d4873841590dc25cc095c",
       "version_major": 2,
       "version_minor": 0
      },
      "text/plain": [
       "Computing transition probabilities:   0%|          | 0/348 [00:00<?, ?it/s]"
      ]
     },
     "metadata": {},
     "output_type": "display_data"
    },
    {
     "name": "stderr",
     "output_type": "stream",
     "text": [
      "\n",
      "\n",
      "\n",
      "\n",
      "\n",
      "Generating walks (CPU: 1):   0%|                                                                | 0/15 [00:00<?, ?it/s]\u001b[A\u001b[A\u001b[A\u001b[A\u001b[A\n",
      "\n",
      "\n",
      "\n",
      "\n",
      "Generating walks (CPU: 1):  40%|██████████████████████▍                                 | 6/15 [00:00<00:00, 54.73it/s]\u001b[A\u001b[A\u001b[A\u001b[A\u001b[A\n",
      "\n",
      "\n",
      "\n",
      "\n",
      "Generating walks (CPU: 1): 100%|███████████████████████████████████████████████████████| 15/15 [00:00<00:00, 43.38it/s]\u001b[A\u001b[A\u001b[A\u001b[A\u001b[A\n",
      "\n",
      "\n",
      "\n",
      "\n",
      " 50%|█████████████████████████████████████████▌                                         | 1/2 [03:20<03:20, 200.68s/it]\u001b[A\u001b[A\u001b[A\u001b[A"
     ]
    },
    {
     "data": {
      "application/vnd.jupyter.widget-view+json": {
       "model_id": "1dc866564ed14c4f857ef043a6a62e6c",
       "version_major": 2,
       "version_minor": 0
      },
      "text/plain": [
       "Computing transition probabilities:   0%|          | 0/348 [00:00<?, ?it/s]"
      ]
     },
     "metadata": {},
     "output_type": "display_data"
    },
    {
     "name": "stderr",
     "output_type": "stream",
     "text": [
      "\n",
      "\n",
      "\n",
      "\n",
      "\n",
      "Generating walks (CPU: 1):   0%|                                                                | 0/15 [00:00<?, ?it/s]\u001b[A\u001b[A\u001b[A\u001b[A\u001b[A\n",
      "\n",
      "\n",
      "\n",
      "\n",
      "Generating walks (CPU: 1):  47%|██████████████████████████▏                             | 7/15 [00:00<00:00, 55.71it/s]\u001b[A\u001b[A\u001b[A\u001b[A\u001b[A\n",
      "\n",
      "\n",
      "\n",
      "\n",
      "Generating walks (CPU: 1): 100%|███████████████████████████████████████████████████████| 15/15 [00:00<00:00, 45.22it/s]\u001b[A\u001b[A\u001b[A\u001b[A\u001b[A\n",
      "\n",
      "\n",
      "\n",
      "\n",
      "100%|███████████████████████████████████████████████████████████████████████████████████| 2/2 [06:46<00:00, 203.33s/it]\u001b[A\u001b[A\u001b[A\u001b[A\n",
      "\n",
      "\n",
      "\n",
      "100%|███████████████████████████████████████████████████████████████████████████████████| 2/2 [13:56<00:00, 418.14s/it]\u001b[A\u001b[A\u001b[A\n",
      "\n",
      "\n",
      "100%|███████████████████████████████████████████████████████████████████████████████████| 2/2 [28:40<00:00, 860.39s/it]\u001b[A\u001b[A\n",
      "\n",
      "100%|██████████████████████████████████████████████████████████████████████████████████| 2/2 [55:51<00:00, 1675.80s/it]\u001b[A\n",
      " 50%|█████████████████████████████████████████                                         | 1/2 [55:51<55:51, 3351.60s/it]\n",
      "  0%|                                                                                            | 0/2 [00:00<?, ?it/s]\u001b[A\n",
      "\n",
      "  0%|                                                                                            | 0/2 [00:00<?, ?it/s]\u001b[A\u001b[A\n",
      "\n",
      "\n",
      "  0%|                                                                                            | 0/2 [00:00<?, ?it/s]\u001b[A\u001b[A\u001b[A\n",
      "\n",
      "\n",
      "\n",
      "  0%|                                                                                            | 0/2 [00:00<?, ?it/s]\u001b[A\u001b[A\u001b[A\u001b[A"
     ]
    },
    {
     "data": {
      "application/vnd.jupyter.widget-view+json": {
       "model_id": "d693590716a1485c9adae4fce4c1aa08",
       "version_major": 2,
       "version_minor": 0
      },
      "text/plain": [
       "Computing transition probabilities:   0%|          | 0/348 [00:00<?, ?it/s]"
      ]
     },
     "metadata": {},
     "output_type": "display_data"
    },
    {
     "name": "stderr",
     "output_type": "stream",
     "text": [
      "\n",
      "\n",
      "\n",
      "\n",
      "\n",
      "Generating walks (CPU: 1):   0%|                                                                | 0/12 [00:00<?, ?it/s]\u001b[A\u001b[A\u001b[A\u001b[A\u001b[A\n",
      "\n",
      "\n",
      "\n",
      "\n",
      "Generating walks (CPU: 1): 100%|███████████████████████████████████████████████████████| 12/12 [00:00<00:00, 54.50it/s]\u001b[A\u001b[A\u001b[A\u001b[A\u001b[A\n",
      "\n",
      "\n",
      "\n",
      "\n",
      " 50%|█████████████████████████████████████████▌                                         | 1/2 [03:26<03:26, 206.54s/it]\u001b[A\u001b[A\u001b[A\u001b[A"
     ]
    },
    {
     "data": {
      "application/vnd.jupyter.widget-view+json": {
       "model_id": "d347d53b5a264f31a95e9e1c279ce331",
       "version_major": 2,
       "version_minor": 0
      },
      "text/plain": [
       "Computing transition probabilities:   0%|          | 0/348 [00:00<?, ?it/s]"
      ]
     },
     "metadata": {},
     "output_type": "display_data"
    },
    {
     "name": "stderr",
     "output_type": "stream",
     "text": [
      "\n",
      "\n",
      "\n",
      "\n",
      "\n",
      "Generating walks (CPU: 1):   0%|                                                                | 0/12 [00:00<?, ?it/s]\u001b[A\u001b[A\u001b[A\u001b[A\u001b[A\n",
      "\n",
      "\n",
      "\n",
      "\n",
      "Generating walks (CPU: 1): 100%|███████████████████████████████████████████████████████| 12/12 [00:00<00:00, 64.13it/s]\u001b[A\u001b[A\u001b[A\u001b[A\u001b[A\n",
      "\n",
      "\n",
      "\n",
      "\n",
      "100%|███████████████████████████████████████████████████████████████████████████████████| 2/2 [06:40<00:00, 200.49s/it]\u001b[A\u001b[A\u001b[A\u001b[A\n",
      "\n",
      "\n",
      "\n",
      " 50%|█████████████████████████████████████████▌                                         | 1/2 [06:40<06:40, 400.98s/it]\u001b[A\u001b[A\u001b[A\n",
      "\n",
      "\n",
      "\n",
      "  0%|                                                                                            | 0/2 [00:00<?, ?it/s]\u001b[A\u001b[A\u001b[A\u001b[A"
     ]
    },
    {
     "data": {
      "application/vnd.jupyter.widget-view+json": {
       "model_id": "13111a92edbd4ba5af6b83e96a164d92",
       "version_major": 2,
       "version_minor": 0
      },
      "text/plain": [
       "Computing transition probabilities:   0%|          | 0/348 [00:00<?, ?it/s]"
      ]
     },
     "metadata": {},
     "output_type": "display_data"
    },
    {
     "name": "stderr",
     "output_type": "stream",
     "text": [
      "\n",
      "\n",
      "\n",
      "\n",
      "\n",
      "Generating walks (CPU: 1):   0%|                                                                | 0/12 [00:00<?, ?it/s]\u001b[A\u001b[A\u001b[A\u001b[A\u001b[A\n",
      "\n",
      "\n",
      "\n",
      "\n",
      "Generating walks (CPU: 1): 100%|███████████████████████████████████████████████████████| 12/12 [00:00<00:00, 49.69it/s]\u001b[A\u001b[A\u001b[A\u001b[A\u001b[A\n",
      "\n",
      "\n",
      "\n",
      "\n",
      " 50%|█████████████████████████████████████████▌                                         | 1/2 [03:53<03:53, 233.60s/it]\u001b[A\u001b[A\u001b[A\u001b[A"
     ]
    },
    {
     "data": {
      "application/vnd.jupyter.widget-view+json": {
       "model_id": "54fd8f4f33344374a5d9ac3442840b9e",
       "version_major": 2,
       "version_minor": 0
      },
      "text/plain": [
       "Computing transition probabilities:   0%|          | 0/348 [00:00<?, ?it/s]"
      ]
     },
     "metadata": {},
     "output_type": "display_data"
    },
    {
     "name": "stderr",
     "output_type": "stream",
     "text": [
      "\n",
      "\n",
      "\n",
      "\n",
      "\n",
      "Generating walks (CPU: 1):   0%|                                                                | 0/12 [00:00<?, ?it/s]\u001b[A\u001b[A\u001b[A\u001b[A\u001b[A\n",
      "\n",
      "\n",
      "\n",
      "\n",
      "Generating walks (CPU: 1): 100%|███████████████████████████████████████████████████████| 12/12 [00:00<00:00, 57.23it/s]\u001b[A\u001b[A\u001b[A\u001b[A\u001b[A\n",
      "\n",
      "\n",
      "\n",
      "\n",
      "100%|███████████████████████████████████████████████████████████████████████████████████| 2/2 [06:47<00:00, 203.63s/it]\u001b[A\u001b[A\u001b[A\u001b[A\n",
      "\n",
      "\n",
      "\n",
      "100%|███████████████████████████████████████████████████████████████████████████████████| 2/2 [13:28<00:00, 404.13s/it]\u001b[A\u001b[A\u001b[A\n",
      "\n",
      "\n",
      " 50%|█████████████████████████████████████████▌                                         | 1/2 [13:28<13:28, 808.26s/it]\u001b[A\u001b[A\n",
      "\n",
      "\n",
      "  0%|                                                                                            | 0/2 [00:00<?, ?it/s]\u001b[A\u001b[A\u001b[A\n",
      "\n",
      "\n",
      "\n",
      "  0%|                                                                                            | 0/2 [00:00<?, ?it/s]\u001b[A\u001b[A\u001b[A\u001b[A"
     ]
    },
    {
     "data": {
      "application/vnd.jupyter.widget-view+json": {
       "model_id": "65af82487add4f3681b64eaee425b4cb",
       "version_major": 2,
       "version_minor": 0
      },
      "text/plain": [
       "Computing transition probabilities:   0%|          | 0/348 [00:00<?, ?it/s]"
      ]
     },
     "metadata": {},
     "output_type": "display_data"
    },
    {
     "name": "stderr",
     "output_type": "stream",
     "text": [
      "\n",
      "\n",
      "\n",
      "\n",
      "\n",
      "Generating walks (CPU: 1):   0%|                                                                | 0/12 [00:00<?, ?it/s]\u001b[A\u001b[A\u001b[A\u001b[A\u001b[A\n",
      "\n",
      "\n",
      "\n",
      "\n",
      "Generating walks (CPU: 1):  50%|████████████████████████████                            | 6/12 [00:00<00:00, 58.12it/s]\u001b[A\u001b[A\u001b[A\u001b[A\u001b[A\n",
      "\n",
      "\n",
      "\n",
      "\n",
      "Generating walks (CPU: 1): 100%|███████████████████████████████████████████████████████| 12/12 [00:00<00:00, 45.74it/s]\u001b[A\u001b[A\u001b[A\u001b[A\u001b[A\n",
      "\n",
      "\n",
      "\n",
      "\n",
      " 50%|█████████████████████████████████████████▌                                         | 1/2 [04:02<04:02, 242.36s/it]\u001b[A\u001b[A\u001b[A\u001b[A"
     ]
    },
    {
     "data": {
      "application/vnd.jupyter.widget-view+json": {
       "model_id": "1651bd690df142588df86b0a9be25aa1",
       "version_major": 2,
       "version_minor": 0
      },
      "text/plain": [
       "Computing transition probabilities:   0%|          | 0/348 [00:00<?, ?it/s]"
      ]
     },
     "metadata": {},
     "output_type": "display_data"
    },
    {
     "name": "stderr",
     "output_type": "stream",
     "text": [
      "\n",
      "\n",
      "\n",
      "\n",
      "\n",
      "Generating walks (CPU: 1):   0%|                                                                | 0/12 [00:00<?, ?it/s]\u001b[A\u001b[A\u001b[A\u001b[A\u001b[A\n",
      "\n",
      "\n",
      "\n",
      "\n",
      "Generating walks (CPU: 1):  50%|████████████████████████████                            | 6/12 [00:00<00:00, 57.06it/s]\u001b[A\u001b[A\u001b[A\u001b[A\u001b[A\n",
      "\n",
      "\n",
      "\n",
      "\n",
      "Generating walks (CPU: 1): 100%|███████████████████████████████████████████████████████| 12/12 [00:00<00:00, 42.71it/s]\u001b[A\u001b[A\u001b[A\u001b[A\u001b[A\n",
      "\n",
      "\n",
      "\n",
      "\n",
      "100%|███████████████████████████████████████████████████████████████████████████████████| 2/2 [07:35<00:00, 227.57s/it]\u001b[A\u001b[A\u001b[A\u001b[A\n",
      "\n",
      "\n",
      "\n",
      " 50%|█████████████████████████████████████████▌                                         | 1/2 [07:35<07:35, 455.15s/it]\u001b[A\u001b[A\u001b[A\n",
      "\n",
      "\n",
      "\n",
      "  0%|                                                                                            | 0/2 [00:00<?, ?it/s]\u001b[A\u001b[A\u001b[A\u001b[A"
     ]
    },
    {
     "data": {
      "application/vnd.jupyter.widget-view+json": {
       "model_id": "ba279a1136ba4c54b298eca95e8183b6",
       "version_major": 2,
       "version_minor": 0
      },
      "text/plain": [
       "Computing transition probabilities:   0%|          | 0/348 [00:00<?, ?it/s]"
      ]
     },
     "metadata": {},
     "output_type": "display_data"
    },
    {
     "name": "stderr",
     "output_type": "stream",
     "text": [
      "\n",
      "\n",
      "\n",
      "\n",
      "\n",
      "Generating walks (CPU: 1):   0%|                                                                | 0/12 [00:00<?, ?it/s]\u001b[A\u001b[A\u001b[A\u001b[A\u001b[A\n",
      "\n",
      "\n",
      "\n",
      "\n",
      "Generating walks (CPU: 1): 100%|███████████████████████████████████████████████████████| 12/12 [00:00<00:00, 45.88it/s]\u001b[A\u001b[A\u001b[A\u001b[A\u001b[A\n",
      "\n",
      "\n",
      "\n",
      "\n",
      " 50%|█████████████████████████████████████████▌                                         | 1/2 [04:14<04:14, 254.44s/it]\u001b[A\u001b[A\u001b[A\u001b[A"
     ]
    },
    {
     "data": {
      "application/vnd.jupyter.widget-view+json": {
       "model_id": "3904a9ebc12d4a1789820a1efd75a7e5",
       "version_major": 2,
       "version_minor": 0
      },
      "text/plain": [
       "Computing transition probabilities:   0%|          | 0/348 [00:00<?, ?it/s]"
      ]
     },
     "metadata": {},
     "output_type": "display_data"
    },
    {
     "name": "stderr",
     "output_type": "stream",
     "text": [
      "\n",
      "\n",
      "\n",
      "\n",
      "\n",
      "Generating walks (CPU: 1):   0%|                                                                | 0/12 [00:00<?, ?it/s]\u001b[A\u001b[A\u001b[A\u001b[A\u001b[A\n",
      "\n",
      "\n",
      "\n",
      "\n",
      "Generating walks (CPU: 1):  50%|████████████████████████████                            | 6/12 [00:00<00:00, 56.03it/s]\u001b[A\u001b[A\u001b[A\u001b[A\u001b[A\n",
      "\n",
      "\n",
      "\n",
      "\n",
      "Generating walks (CPU: 1): 100%|███████████████████████████████████████████████████████| 12/12 [00:00<00:00, 43.76it/s]\u001b[A\u001b[A\u001b[A\u001b[A\u001b[A\n",
      "\n",
      "\n",
      "\n",
      "\n",
      "100%|███████████████████████████████████████████████████████████████████████████████████| 2/2 [07:39<00:00, 229.53s/it]\u001b[A\u001b[A\u001b[A\u001b[A\n",
      "\n",
      "\n",
      "\n",
      "100%|███████████████████████████████████████████████████████████████████████████████████| 2/2 [15:14<00:00, 457.11s/it]\u001b[A\u001b[A\u001b[A\n",
      "\n",
      "\n",
      "100%|███████████████████████████████████████████████████████████████████████████████████| 2/2 [28:42<00:00, 861.24s/it]\u001b[A\u001b[A\n",
      "\n",
      " 50%|█████████████████████████████████████████                                         | 1/2 [28:42<28:42, 1722.48s/it]\u001b[A\n",
      "\n",
      "  0%|                                                                                            | 0/2 [00:00<?, ?it/s]\u001b[A\u001b[A\n",
      "\n",
      "\n",
      "  0%|                                                                                            | 0/2 [00:00<?, ?it/s]\u001b[A\u001b[A\u001b[A\n",
      "\n",
      "\n",
      "\n",
      "  0%|                                                                                            | 0/2 [00:00<?, ?it/s]\u001b[A\u001b[A\u001b[A\u001b[A"
     ]
    },
    {
     "data": {
      "application/vnd.jupyter.widget-view+json": {
       "model_id": "3cfb23602af244d39317f2ebcfa78340",
       "version_major": 2,
       "version_minor": 0
      },
      "text/plain": [
       "Computing transition probabilities:   0%|          | 0/348 [00:00<?, ?it/s]"
      ]
     },
     "metadata": {},
     "output_type": "display_data"
    },
    {
     "name": "stderr",
     "output_type": "stream",
     "text": [
      "\n",
      "\n",
      "\n",
      "\n",
      "\n",
      "Generating walks (CPU: 1):   0%|                                                                | 0/15 [00:00<?, ?it/s]\u001b[A\u001b[A\u001b[A\u001b[A\u001b[A\n",
      "\n",
      "\n",
      "\n",
      "\n",
      "Generating walks (CPU: 1): 100%|███████████████████████████████████████████████████████| 15/15 [00:00<00:00, 61.13it/s]\u001b[A\u001b[A\u001b[A\u001b[A\u001b[A\n",
      "\n",
      "\n",
      "\n",
      "\n",
      " 50%|█████████████████████████████████████████▌                                         | 1/2 [03:40<03:40, 220.27s/it]\u001b[A\u001b[A\u001b[A\u001b[A"
     ]
    },
    {
     "data": {
      "application/vnd.jupyter.widget-view+json": {
       "model_id": "abc26ae060724b0789448784cdbb0c02",
       "version_major": 2,
       "version_minor": 0
      },
      "text/plain": [
       "Computing transition probabilities:   0%|          | 0/348 [00:00<?, ?it/s]"
      ]
     },
     "metadata": {},
     "output_type": "display_data"
    },
    {
     "name": "stderr",
     "output_type": "stream",
     "text": [
      "\n",
      "\n",
      "\n",
      "\n",
      "\n",
      "Generating walks (CPU: 1):   0%|                                                                | 0/15 [00:00<?, ?it/s]\u001b[A\u001b[A\u001b[A\u001b[A\u001b[A\n",
      "\n",
      "\n",
      "\n",
      "\n",
      "Generating walks (CPU: 1):  33%|██████████████████▋                                     | 5/15 [00:00<00:00, 30.02it/s]\u001b[A\u001b[A\u001b[A\u001b[A\u001b[A\n",
      "\n",
      "\n",
      "\n",
      "\n",
      "Generating walks (CPU: 1): 100%|███████████████████████████████████████████████████████| 15/15 [00:00<00:00, 41.27it/s]\u001b[A\u001b[A\u001b[A\u001b[A\u001b[A\n",
      "\n",
      "\n",
      "\n",
      "\n",
      "100%|███████████████████████████████████████████████████████████████████████████████████| 2/2 [07:28<00:00, 224.32s/it]\u001b[A\u001b[A\u001b[A\u001b[A\n",
      "\n",
      "\n",
      "\n",
      " 50%|█████████████████████████████████████████▌                                         | 1/2 [07:28<07:28, 448.66s/it]\u001b[A\u001b[A\u001b[A\n",
      "\n",
      "\n",
      "\n",
      "  0%|                                                                                            | 0/2 [00:00<?, ?it/s]\u001b[A\u001b[A\u001b[A\u001b[A"
     ]
    },
    {
     "data": {
      "application/vnd.jupyter.widget-view+json": {
       "model_id": "40d42ee62252459b97d7df9eaae72352",
       "version_major": 2,
       "version_minor": 0
      },
      "text/plain": [
       "Computing transition probabilities:   0%|          | 0/348 [00:00<?, ?it/s]"
      ]
     },
     "metadata": {},
     "output_type": "display_data"
    },
    {
     "name": "stderr",
     "output_type": "stream",
     "text": [
      "\n",
      "\n",
      "\n",
      "\n",
      "\n",
      "Generating walks (CPU: 1):   0%|                                                                | 0/15 [00:00<?, ?it/s]\u001b[A\u001b[A\u001b[A\u001b[A\u001b[A\n",
      "\n",
      "\n",
      "\n",
      "\n",
      "Generating walks (CPU: 1): 100%|███████████████████████████████████████████████████████| 15/15 [00:00<00:00, 73.04it/s]\u001b[A\u001b[A\u001b[A\u001b[A\u001b[A\n",
      "\n",
      "\n",
      "\n",
      "\n",
      " 50%|█████████████████████████████████████████▌                                         | 1/2 [03:43<03:43, 223.12s/it]\u001b[A\u001b[A\u001b[A\u001b[A"
     ]
    },
    {
     "data": {
      "application/vnd.jupyter.widget-view+json": {
       "model_id": "c522480fe0bd4cf7a0a90b231629d13a",
       "version_major": 2,
       "version_minor": 0
      },
      "text/plain": [
       "Computing transition probabilities:   0%|          | 0/348 [00:00<?, ?it/s]"
      ]
     },
     "metadata": {},
     "output_type": "display_data"
    },
    {
     "name": "stderr",
     "output_type": "stream",
     "text": [
      "\n",
      "\n",
      "\n",
      "\n",
      "\n",
      "Generating walks (CPU: 1):   0%|                                                                | 0/15 [00:00<?, ?it/s]\u001b[A\u001b[A\u001b[A\u001b[A\u001b[A\n",
      "\n",
      "\n",
      "\n",
      "\n",
      "Generating walks (CPU: 1): 100%|███████████████████████████████████████████████████████| 15/15 [00:00<00:00, 57.77it/s]\u001b[A\u001b[A\u001b[A\u001b[A\u001b[A\n",
      "\n",
      "\n",
      "\n",
      "\n",
      "100%|███████████████████████████████████████████████████████████████████████████████████| 2/2 [07:40<00:00, 230.36s/it]\u001b[A\u001b[A\u001b[A\u001b[A\n",
      "\n",
      "\n",
      "\n",
      "100%|███████████████████████████████████████████████████████████████████████████████████| 2/2 [15:09<00:00, 454.70s/it]\u001b[A\u001b[A\u001b[A\n",
      "\n",
      "\n",
      " 50%|█████████████████████████████████████████▌                                         | 1/2 [15:09<15:09, 909.40s/it]\u001b[A\u001b[A\n",
      "\n",
      "\n",
      "  0%|                                                                                            | 0/2 [00:00<?, ?it/s]\u001b[A\u001b[A\u001b[A\n",
      "\n",
      "\n",
      "\n",
      "  0%|                                                                                            | 0/2 [00:00<?, ?it/s]\u001b[A\u001b[A\u001b[A\u001b[A"
     ]
    },
    {
     "data": {
      "application/vnd.jupyter.widget-view+json": {
       "model_id": "6ca0c76717284f5b98e5992c6f598c0a",
       "version_major": 2,
       "version_minor": 0
      },
      "text/plain": [
       "Computing transition probabilities:   0%|          | 0/348 [00:00<?, ?it/s]"
      ]
     },
     "metadata": {},
     "output_type": "display_data"
    },
    {
     "name": "stderr",
     "output_type": "stream",
     "text": [
      "\n",
      "\n",
      "\n",
      "\n",
      "\n",
      "Generating walks (CPU: 1):   0%|                                                                | 0/15 [00:00<?, ?it/s]\u001b[A\u001b[A\u001b[A\u001b[A\u001b[A\n",
      "\n",
      "\n",
      "\n",
      "\n",
      "Generating walks (CPU: 1):  47%|██████████████████████████▏                             | 7/15 [00:00<00:00, 53.37it/s]\u001b[A\u001b[A\u001b[A\u001b[A\u001b[A\n",
      "\n",
      "\n",
      "\n",
      "\n",
      "Generating walks (CPU: 1): 100%|███████████████████████████████████████████████████████| 15/15 [00:00<00:00, 44.08it/s]\u001b[A\u001b[A\u001b[A\u001b[A\u001b[A\n",
      "\n",
      "\n",
      "\n",
      "\n",
      " 50%|█████████████████████████████████████████▌                                         | 1/2 [03:39<03:39, 219.92s/it]\u001b[A\u001b[A\u001b[A\u001b[A"
     ]
    },
    {
     "data": {
      "application/vnd.jupyter.widget-view+json": {
       "model_id": "f542b29e250e47539f5988521575f3e3",
       "version_major": 2,
       "version_minor": 0
      },
      "text/plain": [
       "Computing transition probabilities:   0%|          | 0/348 [00:00<?, ?it/s]"
      ]
     },
     "metadata": {},
     "output_type": "display_data"
    },
    {
     "name": "stderr",
     "output_type": "stream",
     "text": [
      "\n",
      "\n",
      "\n",
      "\n",
      "\n",
      "Generating walks (CPU: 1):   0%|                                                                | 0/15 [00:00<?, ?it/s]\u001b[A\u001b[A\u001b[A\u001b[A\u001b[A\n",
      "\n",
      "\n",
      "\n",
      "\n",
      "Generating walks (CPU: 1):  47%|██████████████████████████▏                             | 7/15 [00:00<00:00, 54.59it/s]\u001b[A\u001b[A\u001b[A\u001b[A\u001b[A\n",
      "\n",
      "\n",
      "\n",
      "\n",
      "Generating walks (CPU: 1): 100%|███████████████████████████████████████████████████████| 15/15 [00:00<00:00, 44.57it/s]\u001b[A\u001b[A\u001b[A\u001b[A\u001b[A\n",
      "\n",
      "\n",
      "\n",
      "\n",
      "100%|███████████████████████████████████████████████████████████████████████████████████| 2/2 [07:20<00:00, 220.30s/it]\u001b[A\u001b[A\u001b[A\u001b[A\n",
      "\n",
      "\n",
      "\n",
      " 50%|█████████████████████████████████████████▌                                         | 1/2 [07:20<07:20, 440.59s/it]\u001b[A\u001b[A\u001b[A\n",
      "\n",
      "\n",
      "\n",
      "  0%|                                                                                            | 0/2 [00:00<?, ?it/s]\u001b[A\u001b[A\u001b[A\u001b[A"
     ]
    },
    {
     "data": {
      "application/vnd.jupyter.widget-view+json": {
       "model_id": "21583e42593743e9a1d25cfdd440841e",
       "version_major": 2,
       "version_minor": 0
      },
      "text/plain": [
       "Computing transition probabilities:   0%|          | 0/348 [00:00<?, ?it/s]"
      ]
     },
     "metadata": {},
     "output_type": "display_data"
    },
    {
     "name": "stderr",
     "output_type": "stream",
     "text": [
      "\n",
      "\n",
      "\n",
      "\n",
      "\n",
      "Generating walks (CPU: 1):   0%|                                                                | 0/15 [00:00<?, ?it/s]\u001b[A\u001b[A\u001b[A\u001b[A\u001b[A\n",
      "\n",
      "\n",
      "\n",
      "\n",
      "Generating walks (CPU: 1):  40%|██████████████████████▍                                 | 6/15 [00:00<00:00, 54.81it/s]\u001b[A\u001b[A\u001b[A\u001b[A\u001b[A\n",
      "\n",
      "\n",
      "\n",
      "\n",
      "Generating walks (CPU: 1): 100%|███████████████████████████████████████████████████████| 15/15 [00:00<00:00, 43.69it/s]\u001b[A\u001b[A\u001b[A\u001b[A\u001b[A\n",
      "\n",
      "\n",
      "\n",
      "\n",
      " 50%|█████████████████████████████████████████▌                                         | 1/2 [03:24<03:24, 204.22s/it]\u001b[A\u001b[A\u001b[A\u001b[A"
     ]
    },
    {
     "data": {
      "application/vnd.jupyter.widget-view+json": {
       "model_id": "aa5d19bc0ebf41ae88a12c6648e8b8ca",
       "version_major": 2,
       "version_minor": 0
      },
      "text/plain": [
       "Computing transition probabilities:   0%|          | 0/348 [00:00<?, ?it/s]"
      ]
     },
     "metadata": {},
     "output_type": "display_data"
    },
    {
     "name": "stderr",
     "output_type": "stream",
     "text": [
      "\n",
      "\n",
      "\n",
      "\n",
      "\n",
      "Generating walks (CPU: 1):   0%|                                                                | 0/15 [00:00<?, ?it/s]\u001b[A\u001b[A\u001b[A\u001b[A\u001b[A\n",
      "\n",
      "\n",
      "\n",
      "\n",
      "Generating walks (CPU: 1):  40%|██████████████████████▍                                 | 6/15 [00:00<00:00, 56.72it/s]\u001b[A\u001b[A\u001b[A\u001b[A\u001b[A\n",
      "\n",
      "\n",
      "\n",
      "\n",
      "Generating walks (CPU: 1): 100%|███████████████████████████████████████████████████████| 15/15 [00:00<00:00, 42.45it/s]\u001b[A\u001b[A\u001b[A\u001b[A\u001b[A\n",
      "\n",
      "\n",
      "\n",
      "\n",
      "100%|███████████████████████████████████████████████████████████████████████████████████| 2/2 [06:52<00:00, 206.14s/it]\u001b[A\u001b[A\u001b[A\u001b[A\n",
      "\n",
      "\n",
      "\n",
      "100%|███████████████████████████████████████████████████████████████████████████████████| 2/2 [14:12<00:00, 426.44s/it]\u001b[A\u001b[A\u001b[A\n",
      "\n",
      "\n",
      "100%|███████████████████████████████████████████████████████████████████████████████████| 2/2 [29:22<00:00, 881.14s/it]\u001b[A\u001b[A\n",
      "\n",
      "100%|██████████████████████████████████████████████████████████████████████████████████| 2/2 [58:04<00:00, 1742.39s/it]\u001b[A\n",
      "100%|████████████████████████████████████████████████████████████████████████████████| 2/2 [1:53:56<00:00, 3418.19s/it]\n"
     ]
    }
   ],
   "source": [
    "dim_results = []\n",
    "walk_results = []\n",
    "walk_dist_results = []\n",
    "p_results = []\n",
    "q_results = []\n",
    "selector_results = []\n",
    "classifier_names = []\n",
    "val_acc_train_results = []\n",
    "val_acc_test_results = []\n",
    "acc_test_results = []\n",
    "val_f1_train_results = []\n",
    "val_f1_test_results = []\n",
    "f1_test_results = []\n",
    "best_params_results = []\n",
    "\n",
    "\n",
    "for a in tqdm(dim_list):\n",
    "    for b in tqdm(walk_list):\n",
    "        for c in tqdm(walk_dist):\n",
    "            for d in tqdm(p_list):\n",
    "                for e in tqdm(q_list):\n",
    "                    n2v_model, X_train, X_test, y_train_encoded, y_test_encoded, X_unknown = preprocess_for_ml(a, b, c, d, e)                  \n",
    "                    for selector in reduction_list:\n",
    "                        for i in range(4):\n",
    "                            pipeline = Pipeline([\n",
    "                                ('preprocessor',  StandardScaler()),\n",
    "                                ('DropConstant',  DropConstantFeatures(tol=0.99)),\n",
    "                                ('DropDuplicate', DropDuplicateFeatures()),\n",
    "                                ('DropCorr',      DropCorrelatedFeatures(threshold=0.90)),\n",
    "                                ('DropSmart',     SmartCorrelatedSelection(threshold=0.80, cv=3)),\n",
    "                                ('selector',      selector),\n",
    "                                ('classifier',    classifier_list[i])])\n",
    "\n",
    "                            study = optuna.create_study(direction='maximize')\n",
    "                            study.optimize(objective, n_trials=100)\n",
    "\n",
    "                            best_params = study.best_params\n",
    "                            best_model = get_best_params()\n",
    "                            pipeline.steps[-1] = ('classifier', best_model)\n",
    "\n",
    "                            cv_results = cross_validate(pipeline, X_train, y_train_encoded, scoring=(\"f1_macro\",\"accuracy\"), cv=kf, return_train_score=True)\n",
    "\n",
    "                            val_f1_train = cv_results['train_f1_macro'].mean()\n",
    "                            val_f1_test = cv_results['test_f1_macro'].mean()\n",
    "                            val_acc_train = cv_results['train_accuracy'].mean()\n",
    "                            val_acc_test = cv_results['test_accuracy'].mean()\n",
    "\n",
    "                            model = pipeline.fit(X_train, y_train_encoded)\n",
    "                            preds = model.predict(X_test)\n",
    "                            test_acc_score = accuracy_score(y_test_encoded, preds)\n",
    "                            test_f1_score = f1_score(y_test_encoded, preds, average='macro')\n",
    "\n",
    "\n",
    "                            dim_results.append(a)\n",
    "                            walk_results.append(b)\n",
    "                            walk_dist_results.append(c)\n",
    "                            p_results.append(d)\n",
    "                            q_results.append(e)\n",
    "                            selector_results.append(selector)\n",
    "                            classifier_names.append(classifier_list[i].__class__.__name__)\n",
    "                            val_acc_train_results.append(val_acc_train)\n",
    "                            val_acc_test_results.append(val_acc_test)\n",
    "                            val_f1_train_results.append(val_f1_train)\n",
    "                            val_f1_test_results.append(val_f1_test)\n",
    "                            acc_test_results.append(test_acc_score)\n",
    "                            f1_test_results.append(test_f1_score)\n",
    "                            best_params_results.append(best_params)"
   ]
  },
  {
   "cell_type": "markdown",
   "id": "e7532662",
   "metadata": {},
   "source": [
    "**Combining and displaying results**"
   ]
  },
  {
   "cell_type": "code",
   "execution_count": 19,
   "id": "bed068b2",
   "metadata": {
    "scrolled": true
   },
   "outputs": [
    {
     "data": {
      "text/html": [
       "<div>\n",
       "<style scoped>\n",
       "    .dataframe tbody tr th:only-of-type {\n",
       "        vertical-align: middle;\n",
       "    }\n",
       "\n",
       "    .dataframe tbody tr th {\n",
       "        vertical-align: top;\n",
       "    }\n",
       "\n",
       "    .dataframe thead th {\n",
       "        text-align: right;\n",
       "    }\n",
       "</style>\n",
       "<table border=\"1\" class=\"dataframe\">\n",
       "  <thead>\n",
       "    <tr style=\"text-align: right;\">\n",
       "      <th></th>\n",
       "      <th>Model Name</th>\n",
       "      <th>Selector</th>\n",
       "      <th>val_acc_train_results</th>\n",
       "      <th>val_acc_test_results</th>\n",
       "      <th>val_f1_train_results</th>\n",
       "      <th>val_f1_test_results</th>\n",
       "      <th>acc_test_results</th>\n",
       "      <th>f1_test_results</th>\n",
       "      <th>dim_results</th>\n",
       "      <th>walk_results</th>\n",
       "      <th>walk_dist_results</th>\n",
       "      <th>p_results</th>\n",
       "      <th>q_results</th>\n",
       "      <th>best_params_results</th>\n",
       "    </tr>\n",
       "  </thead>\n",
       "  <tbody>\n",
       "    <tr>\n",
       "      <th>0</th>\n",
       "      <td>RandomForestClassifier</td>\n",
       "      <td>PCA(n_components=0.95, random_state=42)</td>\n",
       "      <td>0.974094</td>\n",
       "      <td>0.941212</td>\n",
       "      <td>0.969381</td>\n",
       "      <td>0.935952</td>\n",
       "      <td>0.937500</td>\n",
       "      <td>0.933775</td>\n",
       "      <td>8</td>\n",
       "      <td>12</td>\n",
       "      <td>8</td>\n",
       "      <td>0.5</td>\n",
       "      <td>2</td>\n",
       "      <td>{'n_estimators': 300, 'max_depth': 4, 'min_sam...</td>\n",
       "    </tr>\n",
       "    <tr>\n",
       "      <th>1</th>\n",
       "      <td>XGBClassifier</td>\n",
       "      <td>PCA(n_components=0.95, random_state=42)</td>\n",
       "      <td>1.000000</td>\n",
       "      <td>0.950404</td>\n",
       "      <td>1.000000</td>\n",
       "      <td>0.946391</td>\n",
       "      <td>0.968750</td>\n",
       "      <td>0.965656</td>\n",
       "      <td>8</td>\n",
       "      <td>12</td>\n",
       "      <td>8</td>\n",
       "      <td>0.5</td>\n",
       "      <td>2</td>\n",
       "      <td>{'learning_rate': 0.1940683966265389, 'max_dep...</td>\n",
       "    </tr>\n",
       "    <tr>\n",
       "      <th>2</th>\n",
       "      <td>QuadraticDiscriminantAnalysis</td>\n",
       "      <td>PCA(n_components=0.95, random_state=42)</td>\n",
       "      <td>0.984225</td>\n",
       "      <td>0.959495</td>\n",
       "      <td>0.980867</td>\n",
       "      <td>0.950219</td>\n",
       "      <td>0.968750</td>\n",
       "      <td>0.969676</td>\n",
       "      <td>8</td>\n",
       "      <td>12</td>\n",
       "      <td>8</td>\n",
       "      <td>0.5</td>\n",
       "      <td>2</td>\n",
       "      <td>{'reg_param': 0.5485729152035468}</td>\n",
       "    </tr>\n",
       "    <tr>\n",
       "      <th>3</th>\n",
       "      <td>MLPClassifier</td>\n",
       "      <td>PCA(n_components=0.95, random_state=42)</td>\n",
       "      <td>1.000000</td>\n",
       "      <td>0.977576</td>\n",
       "      <td>1.000000</td>\n",
       "      <td>0.972830</td>\n",
       "      <td>0.979167</td>\n",
       "      <td>0.979114</td>\n",
       "      <td>8</td>\n",
       "      <td>12</td>\n",
       "      <td>8</td>\n",
       "      <td>0.5</td>\n",
       "      <td>2</td>\n",
       "      <td>{'hidden_layer_sizes': 132, 'activation': 'rel...</td>\n",
       "    </tr>\n",
       "    <tr>\n",
       "      <th>4</th>\n",
       "      <td>RandomForestClassifier</td>\n",
       "      <td>RFECV(estimator=DecisionTreeClassifier(random_...</td>\n",
       "      <td>0.994376</td>\n",
       "      <td>0.959394</td>\n",
       "      <td>0.992921</td>\n",
       "      <td>0.947173</td>\n",
       "      <td>0.979167</td>\n",
       "      <td>0.979114</td>\n",
       "      <td>8</td>\n",
       "      <td>12</td>\n",
       "      <td>8</td>\n",
       "      <td>0.5</td>\n",
       "      <td>2</td>\n",
       "      <td>{'n_estimators': 171, 'max_depth': 5, 'min_sam...</td>\n",
       "    </tr>\n",
       "    <tr>\n",
       "      <th>...</th>\n",
       "      <td>...</td>\n",
       "      <td>...</td>\n",
       "      <td>...</td>\n",
       "      <td>...</td>\n",
       "      <td>...</td>\n",
       "      <td>...</td>\n",
       "      <td>...</td>\n",
       "      <td>...</td>\n",
       "      <td>...</td>\n",
       "      <td>...</td>\n",
       "      <td>...</td>\n",
       "      <td>...</td>\n",
       "      <td>...</td>\n",
       "      <td>...</td>\n",
       "    </tr>\n",
       "    <tr>\n",
       "      <th>251</th>\n",
       "      <td>MLPClassifier</td>\n",
       "      <td>PCA(n_components=0.95, random_state=42)</td>\n",
       "      <td>1.000000</td>\n",
       "      <td>0.977576</td>\n",
       "      <td>1.000000</td>\n",
       "      <td>0.972729</td>\n",
       "      <td>0.968750</td>\n",
       "      <td>0.969676</td>\n",
       "      <td>10</td>\n",
       "      <td>15</td>\n",
       "      <td>10</td>\n",
       "      <td>0.7</td>\n",
       "      <td>3</td>\n",
       "      <td>{'hidden_layer_sizes': 120, 'activation': 'rel...</td>\n",
       "    </tr>\n",
       "    <tr>\n",
       "      <th>252</th>\n",
       "      <td>RandomForestClassifier</td>\n",
       "      <td>RFECV(estimator=DecisionTreeClassifier(random_...</td>\n",
       "      <td>0.986485</td>\n",
       "      <td>0.959394</td>\n",
       "      <td>0.985468</td>\n",
       "      <td>0.952242</td>\n",
       "      <td>0.958333</td>\n",
       "      <td>0.961227</td>\n",
       "      <td>10</td>\n",
       "      <td>15</td>\n",
       "      <td>10</td>\n",
       "      <td>0.7</td>\n",
       "      <td>3</td>\n",
       "      <td>{'n_estimators': 152, 'max_depth': 5, 'min_sam...</td>\n",
       "    </tr>\n",
       "    <tr>\n",
       "      <th>253</th>\n",
       "      <td>XGBClassifier</td>\n",
       "      <td>RFECV(estimator=DecisionTreeClassifier(random_...</td>\n",
       "      <td>1.000000</td>\n",
       "      <td>0.959394</td>\n",
       "      <td>1.000000</td>\n",
       "      <td>0.954008</td>\n",
       "      <td>0.968750</td>\n",
       "      <td>0.968941</td>\n",
       "      <td>10</td>\n",
       "      <td>15</td>\n",
       "      <td>10</td>\n",
       "      <td>0.7</td>\n",
       "      <td>3</td>\n",
       "      <td>{'learning_rate': 0.17745275529475676, 'max_de...</td>\n",
       "    </tr>\n",
       "    <tr>\n",
       "      <th>254</th>\n",
       "      <td>QuadraticDiscriminantAnalysis</td>\n",
       "      <td>RFECV(estimator=DecisionTreeClassifier(random_...</td>\n",
       "      <td>0.962826</td>\n",
       "      <td>0.950404</td>\n",
       "      <td>0.958823</td>\n",
       "      <td>0.948546</td>\n",
       "      <td>0.937500</td>\n",
       "      <td>0.942899</td>\n",
       "      <td>10</td>\n",
       "      <td>15</td>\n",
       "      <td>10</td>\n",
       "      <td>0.7</td>\n",
       "      <td>3</td>\n",
       "      <td>{'reg_param': 0.6519125842893825}</td>\n",
       "    </tr>\n",
       "    <tr>\n",
       "      <th>255</th>\n",
       "      <td>MLPClassifier</td>\n",
       "      <td>RFECV(estimator=DecisionTreeClassifier(random_...</td>\n",
       "      <td>1.000000</td>\n",
       "      <td>0.977576</td>\n",
       "      <td>1.000000</td>\n",
       "      <td>0.973050</td>\n",
       "      <td>0.979167</td>\n",
       "      <td>0.978768</td>\n",
       "      <td>10</td>\n",
       "      <td>15</td>\n",
       "      <td>10</td>\n",
       "      <td>0.7</td>\n",
       "      <td>3</td>\n",
       "      <td>{'hidden_layer_sizes': 118, 'activation': 'rel...</td>\n",
       "    </tr>\n",
       "  </tbody>\n",
       "</table>\n",
       "<p>256 rows × 14 columns</p>\n",
       "</div>"
      ],
      "text/plain": [
       "                        Model Name   \n",
       "0           RandomForestClassifier  \\\n",
       "1                    XGBClassifier   \n",
       "2    QuadraticDiscriminantAnalysis   \n",
       "3                    MLPClassifier   \n",
       "4           RandomForestClassifier   \n",
       "..                             ...   \n",
       "251                  MLPClassifier   \n",
       "252         RandomForestClassifier   \n",
       "253                  XGBClassifier   \n",
       "254  QuadraticDiscriminantAnalysis   \n",
       "255                  MLPClassifier   \n",
       "\n",
       "                                              Selector  val_acc_train_results   \n",
       "0              PCA(n_components=0.95, random_state=42)               0.974094  \\\n",
       "1              PCA(n_components=0.95, random_state=42)               1.000000   \n",
       "2              PCA(n_components=0.95, random_state=42)               0.984225   \n",
       "3              PCA(n_components=0.95, random_state=42)               1.000000   \n",
       "4    RFECV(estimator=DecisionTreeClassifier(random_...               0.994376   \n",
       "..                                                 ...                    ...   \n",
       "251            PCA(n_components=0.95, random_state=42)               1.000000   \n",
       "252  RFECV(estimator=DecisionTreeClassifier(random_...               0.986485   \n",
       "253  RFECV(estimator=DecisionTreeClassifier(random_...               1.000000   \n",
       "254  RFECV(estimator=DecisionTreeClassifier(random_...               0.962826   \n",
       "255  RFECV(estimator=DecisionTreeClassifier(random_...               1.000000   \n",
       "\n",
       "     val_acc_test_results  val_f1_train_results  val_f1_test_results   \n",
       "0                0.941212              0.969381             0.935952  \\\n",
       "1                0.950404              1.000000             0.946391   \n",
       "2                0.959495              0.980867             0.950219   \n",
       "3                0.977576              1.000000             0.972830   \n",
       "4                0.959394              0.992921             0.947173   \n",
       "..                    ...                   ...                  ...   \n",
       "251              0.977576              1.000000             0.972729   \n",
       "252              0.959394              0.985468             0.952242   \n",
       "253              0.959394              1.000000             0.954008   \n",
       "254              0.950404              0.958823             0.948546   \n",
       "255              0.977576              1.000000             0.973050   \n",
       "\n",
       "     acc_test_results  f1_test_results  dim_results  walk_results   \n",
       "0            0.937500         0.933775            8            12  \\\n",
       "1            0.968750         0.965656            8            12   \n",
       "2            0.968750         0.969676            8            12   \n",
       "3            0.979167         0.979114            8            12   \n",
       "4            0.979167         0.979114            8            12   \n",
       "..                ...              ...          ...           ...   \n",
       "251          0.968750         0.969676           10            15   \n",
       "252          0.958333         0.961227           10            15   \n",
       "253          0.968750         0.968941           10            15   \n",
       "254          0.937500         0.942899           10            15   \n",
       "255          0.979167         0.978768           10            15   \n",
       "\n",
       "     walk_dist_results  p_results  q_results   \n",
       "0                    8        0.5          2  \\\n",
       "1                    8        0.5          2   \n",
       "2                    8        0.5          2   \n",
       "3                    8        0.5          2   \n",
       "4                    8        0.5          2   \n",
       "..                 ...        ...        ...   \n",
       "251                 10        0.7          3   \n",
       "252                 10        0.7          3   \n",
       "253                 10        0.7          3   \n",
       "254                 10        0.7          3   \n",
       "255                 10        0.7          3   \n",
       "\n",
       "                                   best_params_results  \n",
       "0    {'n_estimators': 300, 'max_depth': 4, 'min_sam...  \n",
       "1    {'learning_rate': 0.1940683966265389, 'max_dep...  \n",
       "2                    {'reg_param': 0.5485729152035468}  \n",
       "3    {'hidden_layer_sizes': 132, 'activation': 'rel...  \n",
       "4    {'n_estimators': 171, 'max_depth': 5, 'min_sam...  \n",
       "..                                                 ...  \n",
       "251  {'hidden_layer_sizes': 120, 'activation': 'rel...  \n",
       "252  {'n_estimators': 152, 'max_depth': 5, 'min_sam...  \n",
       "253  {'learning_rate': 0.17745275529475676, 'max_de...  \n",
       "254                  {'reg_param': 0.6519125842893825}  \n",
       "255  {'hidden_layer_sizes': 118, 'activation': 'rel...  \n",
       "\n",
       "[256 rows x 14 columns]"
      ]
     },
     "execution_count": 19,
     "metadata": {},
     "output_type": "execute_result"
    }
   ],
   "source": [
    "columns = ['Model Name', 'Selector',\"val_acc_train_results\",\"val_acc_test_results\",\"val_f1_train_results\",\n",
    "           \"val_f1_test_results\",\"acc_test_results\",\"f1_test_results\",\"dim_results\",\"walk_results\",\"walk_dist_results\",\n",
    "           \"p_results\",\"q_results\",\"best_params_results\"]\n",
    "\n",
    "df_results = pd.DataFrame(zip(classifier_names, selector_results,val_acc_train_results,\n",
    "                              val_acc_test_results,val_f1_train_results,val_f1_test_results,acc_test_results,\n",
    "                              f1_test_results,dim_results,walk_results,walk_dist_results,p_results,q_results,\n",
    "                              best_params_results), columns=columns)\n",
    "df_results"
   ]
  },
  {
   "cell_type": "markdown",
   "id": "9a38cd5c",
   "metadata": {},
   "source": [
    "**Since the data set is small, I apply the generally accepted overfit control ratio 0.05 to 0.1.**"
   ]
  },
  {
   "cell_type": "code",
   "execution_count": 26,
   "id": "3838cccd",
   "metadata": {},
   "outputs": [],
   "source": [
    "df_results[\"checking_overfitting\"] = np.where((df_results.val_acc_train_results - df_results.val_acc_test_results > 0.1) | (df_results.val_acc_train_results - df_results.acc_test_results > 0.1),\"check\",\"pass\")"
   ]
  },
  {
   "cell_type": "code",
   "execution_count": 27,
   "id": "15ee0151",
   "metadata": {
    "scrolled": false
   },
   "outputs": [
    {
     "data": {
      "text/html": [
       "<div>\n",
       "<style scoped>\n",
       "    .dataframe tbody tr th:only-of-type {\n",
       "        vertical-align: middle;\n",
       "    }\n",
       "\n",
       "    .dataframe tbody tr th {\n",
       "        vertical-align: top;\n",
       "    }\n",
       "\n",
       "    .dataframe thead th {\n",
       "        text-align: right;\n",
       "    }\n",
       "</style>\n",
       "<table border=\"1\" class=\"dataframe\">\n",
       "  <thead>\n",
       "    <tr style=\"text-align: right;\">\n",
       "      <th></th>\n",
       "      <th>Model Name</th>\n",
       "      <th>Selector</th>\n",
       "      <th>val_acc_train_results</th>\n",
       "      <th>val_acc_test_results</th>\n",
       "      <th>val_f1_train_results</th>\n",
       "      <th>val_f1_test_results</th>\n",
       "      <th>acc_test_results</th>\n",
       "      <th>f1_test_results</th>\n",
       "      <th>dim_results</th>\n",
       "      <th>walk_results</th>\n",
       "      <th>walk_dist_results</th>\n",
       "      <th>p_results</th>\n",
       "      <th>q_results</th>\n",
       "      <th>best_params_results</th>\n",
       "      <th>checking_overfitting</th>\n",
       "    </tr>\n",
       "  </thead>\n",
       "  <tbody>\n",
       "    <tr>\n",
       "      <th>25</th>\n",
       "      <td>XGBClassifier</td>\n",
       "      <td>PCA(n_components=0.95, random_state=42)</td>\n",
       "      <td>1.00000</td>\n",
       "      <td>0.954949</td>\n",
       "      <td>1.000000</td>\n",
       "      <td>0.947284</td>\n",
       "      <td>0.885417</td>\n",
       "      <td>0.880961</td>\n",
       "      <td>8</td>\n",
       "      <td>12</td>\n",
       "      <td>8</td>\n",
       "      <td>0.7</td>\n",
       "      <td>3</td>\n",
       "      <td>{'learning_rate': 0.10900187323173956, 'max_de...</td>\n",
       "      <td>check</td>\n",
       "    </tr>\n",
       "    <tr>\n",
       "      <th>40</th>\n",
       "      <td>RandomForestClassifier</td>\n",
       "      <td>PCA(n_components=0.95, random_state=42)</td>\n",
       "      <td>0.97636</td>\n",
       "      <td>0.945960</td>\n",
       "      <td>0.972711</td>\n",
       "      <td>0.938622</td>\n",
       "      <td>0.843750</td>\n",
       "      <td>0.826115</td>\n",
       "      <td>8</td>\n",
       "      <td>12</td>\n",
       "      <td>10</td>\n",
       "      <td>0.5</td>\n",
       "      <td>3</td>\n",
       "      <td>{'n_estimators': 179, 'max_depth': 4, 'min_sam...</td>\n",
       "      <td>check</td>\n",
       "    </tr>\n",
       "    <tr>\n",
       "      <th>105</th>\n",
       "      <td>XGBClassifier</td>\n",
       "      <td>PCA(n_components=0.95, random_state=42)</td>\n",
       "      <td>1.00000</td>\n",
       "      <td>0.959495</td>\n",
       "      <td>1.000000</td>\n",
       "      <td>0.949626</td>\n",
       "      <td>0.885417</td>\n",
       "      <td>0.875638</td>\n",
       "      <td>8</td>\n",
       "      <td>15</td>\n",
       "      <td>10</td>\n",
       "      <td>0.5</td>\n",
       "      <td>3</td>\n",
       "      <td>{'learning_rate': 0.17502076121709725, 'max_de...</td>\n",
       "      <td>check</td>\n",
       "    </tr>\n",
       "    <tr>\n",
       "      <th>153</th>\n",
       "      <td>XGBClassifier</td>\n",
       "      <td>PCA(n_components=0.95, random_state=42)</td>\n",
       "      <td>1.00000</td>\n",
       "      <td>0.972929</td>\n",
       "      <td>1.000000</td>\n",
       "      <td>0.971565</td>\n",
       "      <td>0.895833</td>\n",
       "      <td>0.887073</td>\n",
       "      <td>10</td>\n",
       "      <td>12</td>\n",
       "      <td>8</td>\n",
       "      <td>0.7</td>\n",
       "      <td>3</td>\n",
       "      <td>{'learning_rate': 0.12261745084921966, 'max_de...</td>\n",
       "      <td>check</td>\n",
       "    </tr>\n",
       "    <tr>\n",
       "      <th>185</th>\n",
       "      <td>XGBClassifier</td>\n",
       "      <td>PCA(n_components=0.95, random_state=42)</td>\n",
       "      <td>1.00000</td>\n",
       "      <td>0.959495</td>\n",
       "      <td>1.000000</td>\n",
       "      <td>0.952118</td>\n",
       "      <td>0.895833</td>\n",
       "      <td>0.879629</td>\n",
       "      <td>10</td>\n",
       "      <td>12</td>\n",
       "      <td>10</td>\n",
       "      <td>0.7</td>\n",
       "      <td>3</td>\n",
       "      <td>{'learning_rate': 0.13264237183439287, 'max_de...</td>\n",
       "      <td>check</td>\n",
       "    </tr>\n",
       "  </tbody>\n",
       "</table>\n",
       "</div>"
      ],
      "text/plain": [
       "                 Model Name                                 Selector   \n",
       "25            XGBClassifier  PCA(n_components=0.95, random_state=42)  \\\n",
       "40   RandomForestClassifier  PCA(n_components=0.95, random_state=42)   \n",
       "105           XGBClassifier  PCA(n_components=0.95, random_state=42)   \n",
       "153           XGBClassifier  PCA(n_components=0.95, random_state=42)   \n",
       "185           XGBClassifier  PCA(n_components=0.95, random_state=42)   \n",
       "\n",
       "     val_acc_train_results  val_acc_test_results  val_f1_train_results   \n",
       "25                 1.00000              0.954949              1.000000  \\\n",
       "40                 0.97636              0.945960              0.972711   \n",
       "105                1.00000              0.959495              1.000000   \n",
       "153                1.00000              0.972929              1.000000   \n",
       "185                1.00000              0.959495              1.000000   \n",
       "\n",
       "     val_f1_test_results  acc_test_results  f1_test_results  dim_results   \n",
       "25              0.947284          0.885417         0.880961            8  \\\n",
       "40              0.938622          0.843750         0.826115            8   \n",
       "105             0.949626          0.885417         0.875638            8   \n",
       "153             0.971565          0.895833         0.887073           10   \n",
       "185             0.952118          0.895833         0.879629           10   \n",
       "\n",
       "     walk_results  walk_dist_results  p_results  q_results   \n",
       "25             12                  8        0.7          3  \\\n",
       "40             12                 10        0.5          3   \n",
       "105            15                 10        0.5          3   \n",
       "153            12                  8        0.7          3   \n",
       "185            12                 10        0.7          3   \n",
       "\n",
       "                                   best_params_results checking_overfitting  \n",
       "25   {'learning_rate': 0.10900187323173956, 'max_de...                check  \n",
       "40   {'n_estimators': 179, 'max_depth': 4, 'min_sam...                check  \n",
       "105  {'learning_rate': 0.17502076121709725, 'max_de...                check  \n",
       "153  {'learning_rate': 0.12261745084921966, 'max_de...                check  \n",
       "185  {'learning_rate': 0.13264237183439287, 'max_de...                check  "
      ]
     },
     "execution_count": 27,
     "metadata": {},
     "output_type": "execute_result"
    }
   ],
   "source": [
    "df_results[df_results.checking_overfitting == \"check\"]"
   ]
  },
  {
   "cell_type": "markdown",
   "id": "594c981a",
   "metadata": {},
   "source": [
    "**Getting the best results for each model type**"
   ]
  },
  {
   "cell_type": "code",
   "execution_count": 28,
   "id": "8bcbab8c",
   "metadata": {},
   "outputs": [
    {
     "data": {
      "text/html": [
       "<div>\n",
       "<style scoped>\n",
       "    .dataframe tbody tr th:only-of-type {\n",
       "        vertical-align: middle;\n",
       "    }\n",
       "\n",
       "    .dataframe tbody tr th {\n",
       "        vertical-align: top;\n",
       "    }\n",
       "\n",
       "    .dataframe thead th {\n",
       "        text-align: right;\n",
       "    }\n",
       "</style>\n",
       "<table border=\"1\" class=\"dataframe\">\n",
       "  <thead>\n",
       "    <tr style=\"text-align: right;\">\n",
       "      <th></th>\n",
       "      <th>Model Name</th>\n",
       "      <th>Selector</th>\n",
       "      <th>val_acc_train_results</th>\n",
       "      <th>val_acc_test_results</th>\n",
       "      <th>val_f1_train_results</th>\n",
       "      <th>val_f1_test_results</th>\n",
       "      <th>acc_test_results</th>\n",
       "      <th>f1_test_results</th>\n",
       "      <th>dim_results</th>\n",
       "      <th>walk_results</th>\n",
       "      <th>walk_dist_results</th>\n",
       "      <th>p_results</th>\n",
       "      <th>q_results</th>\n",
       "      <th>best_params_results</th>\n",
       "      <th>checking_overfitting</th>\n",
       "    </tr>\n",
       "  </thead>\n",
       "  <tbody>\n",
       "    <tr>\n",
       "      <th>51</th>\n",
       "      <td>MLPClassifier</td>\n",
       "      <td>PCA(n_components=0.95, random_state=42)</td>\n",
       "      <td>1.000000</td>\n",
       "      <td>0.968586</td>\n",
       "      <td>1.000000</td>\n",
       "      <td>0.961847</td>\n",
       "      <td>0.989583</td>\n",
       "      <td>0.992236</td>\n",
       "      <td>8</td>\n",
       "      <td>12</td>\n",
       "      <td>10</td>\n",
       "      <td>0.7</td>\n",
       "      <td>2</td>\n",
       "      <td>{'hidden_layer_sizes': 144, 'activation': 'rel...</td>\n",
       "      <td>pass</td>\n",
       "    </tr>\n",
       "    <tr>\n",
       "      <th>82</th>\n",
       "      <td>QuadraticDiscriminantAnalysis</td>\n",
       "      <td>PCA(n_components=0.95, random_state=42)</td>\n",
       "      <td>0.981978</td>\n",
       "      <td>0.963838</td>\n",
       "      <td>0.979130</td>\n",
       "      <td>0.957636</td>\n",
       "      <td>0.989583</td>\n",
       "      <td>0.992236</td>\n",
       "      <td>8</td>\n",
       "      <td>15</td>\n",
       "      <td>8</td>\n",
       "      <td>0.7</td>\n",
       "      <td>2</td>\n",
       "      <td>{'reg_param': 0.4807542577650866}</td>\n",
       "      <td>pass</td>\n",
       "    </tr>\n",
       "    <tr>\n",
       "      <th>45</th>\n",
       "      <td>XGBClassifier</td>\n",
       "      <td>RFECV(estimator=DecisionTreeClassifier(random_...</td>\n",
       "      <td>1.000000</td>\n",
       "      <td>0.954848</td>\n",
       "      <td>1.000000</td>\n",
       "      <td>0.944489</td>\n",
       "      <td>0.979167</td>\n",
       "      <td>0.981441</td>\n",
       "      <td>8</td>\n",
       "      <td>12</td>\n",
       "      <td>10</td>\n",
       "      <td>0.5</td>\n",
       "      <td>3</td>\n",
       "      <td>{'learning_rate': 0.12052219901072066, 'max_de...</td>\n",
       "      <td>pass</td>\n",
       "    </tr>\n",
       "    <tr>\n",
       "      <th>4</th>\n",
       "      <td>RandomForestClassifier</td>\n",
       "      <td>RFECV(estimator=DecisionTreeClassifier(random_...</td>\n",
       "      <td>0.994376</td>\n",
       "      <td>0.959394</td>\n",
       "      <td>0.992921</td>\n",
       "      <td>0.947173</td>\n",
       "      <td>0.979167</td>\n",
       "      <td>0.979114</td>\n",
       "      <td>8</td>\n",
       "      <td>12</td>\n",
       "      <td>8</td>\n",
       "      <td>0.5</td>\n",
       "      <td>2</td>\n",
       "      <td>{'n_estimators': 171, 'max_depth': 5, 'min_sam...</td>\n",
       "      <td>pass</td>\n",
       "    </tr>\n",
       "  </tbody>\n",
       "</table>\n",
       "</div>"
      ],
      "text/plain": [
       "                       Model Name   \n",
       "51                  MLPClassifier  \\\n",
       "82  QuadraticDiscriminantAnalysis   \n",
       "45                  XGBClassifier   \n",
       "4          RandomForestClassifier   \n",
       "\n",
       "                                             Selector  val_acc_train_results   \n",
       "51            PCA(n_components=0.95, random_state=42)               1.000000  \\\n",
       "82            PCA(n_components=0.95, random_state=42)               0.981978   \n",
       "45  RFECV(estimator=DecisionTreeClassifier(random_...               1.000000   \n",
       "4   RFECV(estimator=DecisionTreeClassifier(random_...               0.994376   \n",
       "\n",
       "    val_acc_test_results  val_f1_train_results  val_f1_test_results   \n",
       "51              0.968586              1.000000             0.961847  \\\n",
       "82              0.963838              0.979130             0.957636   \n",
       "45              0.954848              1.000000             0.944489   \n",
       "4               0.959394              0.992921             0.947173   \n",
       "\n",
       "    acc_test_results  f1_test_results  dim_results  walk_results   \n",
       "51          0.989583         0.992236            8            12  \\\n",
       "82          0.989583         0.992236            8            15   \n",
       "45          0.979167         0.981441            8            12   \n",
       "4           0.979167         0.979114            8            12   \n",
       "\n",
       "    walk_dist_results  p_results  q_results   \n",
       "51                 10        0.7          2  \\\n",
       "82                  8        0.7          2   \n",
       "45                 10        0.5          3   \n",
       "4                   8        0.5          2   \n",
       "\n",
       "                                  best_params_results checking_overfitting  \n",
       "51  {'hidden_layer_sizes': 144, 'activation': 'rel...                 pass  \n",
       "82                  {'reg_param': 0.4807542577650866}                 pass  \n",
       "45  {'learning_rate': 0.12052219901072066, 'max_de...                 pass  \n",
       "4   {'n_estimators': 171, 'max_depth': 5, 'min_sam...                 pass  "
      ]
     },
     "execution_count": 28,
     "metadata": {},
     "output_type": "execute_result"
    }
   ],
   "source": [
    "res = df_results.sort_values(by=\"f1_test_results\", ascending=False)\n",
    "res = res.drop_duplicates(subset = \"Model Name\", keep=\"first\")\n",
    "res"
   ]
  },
  {
   "cell_type": "code",
   "execution_count": 31,
   "id": "29f1ab81",
   "metadata": {},
   "outputs": [
    {
     "data": {
      "text/plain": [
       "0"
      ]
     },
     "execution_count": 31,
     "metadata": {},
     "output_type": "execute_result"
    }
   ],
   "source": [
    "len(res[res.checking_overfitting == \"check\"])"
   ]
  },
  {
   "cell_type": "markdown",
   "id": "0d718882",
   "metadata": {},
   "source": [
    "**Deployment of MLPClassifier model with best params and making predictions**"
   ]
  },
  {
   "cell_type": "code",
   "execution_count": 72,
   "id": "15daa27b",
   "metadata": {},
   "outputs": [
    {
     "data": {
      "text/html": [
       "<div>\n",
       "<style scoped>\n",
       "    .dataframe tbody tr th:only-of-type {\n",
       "        vertical-align: middle;\n",
       "    }\n",
       "\n",
       "    .dataframe tbody tr th {\n",
       "        vertical-align: top;\n",
       "    }\n",
       "\n",
       "    .dataframe thead th {\n",
       "        text-align: right;\n",
       "    }\n",
       "</style>\n",
       "<table border=\"1\" class=\"dataframe\">\n",
       "  <thead>\n",
       "    <tr style=\"text-align: right;\">\n",
       "      <th></th>\n",
       "      <th>dim_results</th>\n",
       "      <th>walk_results</th>\n",
       "      <th>walk_dist_results</th>\n",
       "      <th>p_results</th>\n",
       "      <th>q_results</th>\n",
       "      <th>best_params_results</th>\n",
       "      <th>checking_overfitting</th>\n",
       "    </tr>\n",
       "  </thead>\n",
       "  <tbody>\n",
       "    <tr>\n",
       "      <th>51</th>\n",
       "      <td>8</td>\n",
       "      <td>12</td>\n",
       "      <td>10</td>\n",
       "      <td>0.7</td>\n",
       "      <td>2</td>\n",
       "      <td>{'hidden_layer_sizes': 144, 'activation': 'rel...</td>\n",
       "      <td>pass</td>\n",
       "    </tr>\n",
       "  </tbody>\n",
       "</table>\n",
       "</div>"
      ],
      "text/plain": [
       "    dim_results  walk_results  walk_dist_results  p_results  q_results   \n",
       "51            8            12                 10        0.7          2  \\\n",
       "\n",
       "                                  best_params_results checking_overfitting  \n",
       "51  {'hidden_layer_sizes': 144, 'activation': 'rel...                 pass  "
      ]
     },
     "execution_count": 72,
     "metadata": {},
     "output_type": "execute_result"
    }
   ],
   "source": [
    "res.iloc[:1,8:]"
   ]
  },
  {
   "cell_type": "code",
   "execution_count": 34,
   "id": "e5588a16",
   "metadata": {},
   "outputs": [
    {
     "data": {
      "text/plain": [
       "{'hidden_layer_sizes': 144,\n",
       " 'activation': 'relu',\n",
       " 'solver': 'adam',\n",
       " 'alpha': 0.0003345382135550441,\n",
       " 'learning_rate_init': 0.007146153618921432}"
      ]
     },
     "execution_count": 34,
     "metadata": {},
     "output_type": "execute_result"
    }
   ],
   "source": [
    "res.iloc[0,-2]"
   ]
  },
  {
   "cell_type": "code",
   "execution_count": 38,
   "id": "c43ddcda",
   "metadata": {},
   "outputs": [
    {
     "data": {
      "application/vnd.jupyter.widget-view+json": {
       "model_id": "8ae64f78ee2449a1923eb11ace11f308",
       "version_major": 2,
       "version_minor": 0
      },
      "text/plain": [
       "Computing transition probabilities:   0%|          | 0/348 [00:00<?, ?it/s]"
      ]
     },
     "metadata": {},
     "output_type": "display_data"
    },
    {
     "name": "stderr",
     "output_type": "stream",
     "text": [
      "Generating walks (CPU: 1): 100%|███████████████████████████████████████████████████████| 12/12 [00:00<00:00, 41.46it/s]\n"
     ]
    }
   ],
   "source": [
    "n2v = Node2Vec(new_g, dimensions=8, num_walks=12, walk_length=10, p=0.7, q=2)\n",
    "n2v_model = n2v.fit(window=4, min_count=1, batch_words=4)\n",
    "\n",
    "n2vrep = dict()\n",
    "for node in new_g.nodes():\n",
    "    n2vrep[node] = n2v_model.wv[str(node)]\n",
    "df_n2v = pd.DataFrame(n2vrep).T\n",
    "\n",
    "feat_ext = RecursiveFeatureExtractor(new_g, max_generations=5)\n",
    "rolx_feats = feat_ext.extract_features()\n",
    "df_feats_all = pd.merge(df_n2v, rolx_feats, left_index=True, right_index=True)\n",
    "\n",
    "df_feats_all.index = df_feats_all.index.astype(np.int64, copy=True)\n",
    "df_data = pd.merge(df_feats_all, labels, left_index=True, right_index=True)\n",
    "df_data.columns = df_data.columns.astype(str)\n",
    "\n",
    "my_features_df.index = my_features_df.index.astype(np.int64, copy=True)\n",
    "kitchen_sink_df = pd.merge(df_data, my_features_df, left_index=True, right_index=True)\n",
    "\n",
    "unknowns = kitchen_sink_df[kitchen_sink_df.label=='unknown']\n",
    "raw_df = kitchen_sink_df[kitchen_sink_df.label!='unknown']\n",
    "\n",
    "X = raw_df.drop(columns=['label'])\n",
    "y = raw_df.label\n",
    "X_unknown=unknowns.drop(columns=['label'])\n",
    "\n",
    "le = LabelEncoder()\n",
    "y_encoded = le.fit_transform(y)\n",
    "\n",
    "pipeline = Pipeline([\n",
    "                    ('preprocessor',  StandardScaler()),\n",
    "                    ('DropConstant',  DropConstantFeatures(tol=0.99)),\n",
    "                    ('DropDuplicate', DropDuplicateFeatures()),\n",
    "                    ('DropCorr',      DropCorrelatedFeatures(threshold=0.90)),\n",
    "                    ('DropSmart',     SmartCorrelatedSelection(threshold=0.80, cv=3)),\n",
    "                    ('selector',      PCA(n_components=0.95, random_state=42)),\n",
    "                    ('classifier',    MLPClassifier(hidden_layer_sizes= 144,\n",
    "                                                    activation= \"relu\",\n",
    "                                                    solver= \"adam\",\n",
    "                                                    alpha= 0.0003345382135550441,\n",
    "                                                    learning_rate_init= 0.007146153618921432))])\n",
    "\n",
    "MLPClassifiermodel = pipeline.fit(X, y_encoded)"
   ]
  },
  {
   "cell_type": "code",
   "execution_count": 43,
   "id": "38edbb3a",
   "metadata": {},
   "outputs": [],
   "source": [
    "mlp_predictions = X_unknown.copy()\n",
    "mlp_predictions[\"label\"] = le.inverse_transform(MLPClassifiermodel.predict(X_unknown)).tolist()\n",
    "mlp_predictions = mlp_predictions[[\"label\"]]"
   ]
  },
  {
   "cell_type": "code",
   "execution_count": 46,
   "id": "3b6c7c3b",
   "metadata": {},
   "outputs": [],
   "source": [
    "mlp_predictions.to_csv('predictions_mlp.txt', index_label=\"stdid\", sep=' ')"
   ]
  },
  {
   "cell_type": "markdown",
   "id": "3ebe11f6",
   "metadata": {},
   "source": [
    "**Deployment of QuadraticDiscriminantAnalysis model with best params and making predictions**"
   ]
  },
  {
   "cell_type": "code",
   "execution_count": 73,
   "id": "cbdcdcc9",
   "metadata": {},
   "outputs": [
    {
     "data": {
      "text/html": [
       "<div>\n",
       "<style scoped>\n",
       "    .dataframe tbody tr th:only-of-type {\n",
       "        vertical-align: middle;\n",
       "    }\n",
       "\n",
       "    .dataframe tbody tr th {\n",
       "        vertical-align: top;\n",
       "    }\n",
       "\n",
       "    .dataframe thead th {\n",
       "        text-align: right;\n",
       "    }\n",
       "</style>\n",
       "<table border=\"1\" class=\"dataframe\">\n",
       "  <thead>\n",
       "    <tr style=\"text-align: right;\">\n",
       "      <th></th>\n",
       "      <th>dim_results</th>\n",
       "      <th>walk_results</th>\n",
       "      <th>walk_dist_results</th>\n",
       "      <th>p_results</th>\n",
       "      <th>q_results</th>\n",
       "      <th>best_params_results</th>\n",
       "      <th>checking_overfitting</th>\n",
       "    </tr>\n",
       "  </thead>\n",
       "  <tbody>\n",
       "    <tr>\n",
       "      <th>82</th>\n",
       "      <td>8</td>\n",
       "      <td>15</td>\n",
       "      <td>8</td>\n",
       "      <td>0.7</td>\n",
       "      <td>2</td>\n",
       "      <td>{'reg_param': 0.4807542577650866}</td>\n",
       "      <td>pass</td>\n",
       "    </tr>\n",
       "  </tbody>\n",
       "</table>\n",
       "</div>"
      ],
      "text/plain": [
       "    dim_results  walk_results  walk_dist_results  p_results  q_results   \n",
       "82            8            15                  8        0.7          2  \\\n",
       "\n",
       "                  best_params_results checking_overfitting  \n",
       "82  {'reg_param': 0.4807542577650866}                 pass  "
      ]
     },
     "execution_count": 73,
     "metadata": {},
     "output_type": "execute_result"
    }
   ],
   "source": [
    "res.iloc[1:2,8:]"
   ]
  },
  {
   "cell_type": "code",
   "execution_count": 47,
   "id": "385f0413",
   "metadata": {},
   "outputs": [
    {
     "data": {
      "application/vnd.jupyter.widget-view+json": {
       "model_id": "55997d3a6f6242d0ac102e7f827bc986",
       "version_major": 2,
       "version_minor": 0
      },
      "text/plain": [
       "Computing transition probabilities:   0%|          | 0/348 [00:00<?, ?it/s]"
      ]
     },
     "metadata": {},
     "output_type": "display_data"
    },
    {
     "name": "stderr",
     "output_type": "stream",
     "text": [
      "Generating walks (CPU: 1): 100%|███████████████████████████████████████████████████████| 15/15 [00:00<00:00, 51.30it/s]\n"
     ]
    }
   ],
   "source": [
    "n2v = Node2Vec(new_g, dimensions=8, num_walks=15, walk_length=8, p=0.7, q=2)\n",
    "n2v_model = n2v.fit(window=4, min_count=1, batch_words=4)\n",
    "\n",
    "n2vrep = dict()\n",
    "for node in new_g.nodes():\n",
    "    n2vrep[node] = n2v_model.wv[str(node)]\n",
    "df_n2v = pd.DataFrame(n2vrep).T\n",
    "\n",
    "feat_ext = RecursiveFeatureExtractor(new_g, max_generations=5)\n",
    "rolx_feats = feat_ext.extract_features()\n",
    "df_feats_all = pd.merge(df_n2v, rolx_feats, left_index=True, right_index=True)\n",
    "\n",
    "df_feats_all.index = df_feats_all.index.astype(np.int64, copy=True)\n",
    "df_data = pd.merge(df_feats_all, labels, left_index=True, right_index=True)\n",
    "df_data.columns = df_data.columns.astype(str)\n",
    "\n",
    "my_features_df.index = my_features_df.index.astype(np.int64, copy=True)\n",
    "kitchen_sink_df = pd.merge(df_data, my_features_df, left_index=True, right_index=True)\n",
    "\n",
    "unknowns = kitchen_sink_df[kitchen_sink_df.label=='unknown']\n",
    "raw_df = kitchen_sink_df[kitchen_sink_df.label!='unknown']\n",
    "\n",
    "X = raw_df.drop(columns=['label'])\n",
    "y = raw_df.label\n",
    "X_unknown=unknowns.drop(columns=['label'])\n",
    "\n",
    "le = LabelEncoder()\n",
    "y_encoded = le.fit_transform(y)\n",
    "\n",
    "pipeline = Pipeline([\n",
    "                    ('preprocessor',  StandardScaler()),\n",
    "                    ('DropConstant',  DropConstantFeatures(tol=0.99)),\n",
    "                    ('DropDuplicate', DropDuplicateFeatures()),\n",
    "                    ('DropCorr',      DropCorrelatedFeatures(threshold=0.90)),\n",
    "                    ('DropSmart',     SmartCorrelatedSelection(threshold=0.80, cv=3)),\n",
    "                    ('selector',      PCA(n_components=0.95, random_state=42)),\n",
    "                    ('classifier',    QuadraticDiscriminantAnalysis(reg_param= 0.4807542577650866))])\n",
    "\n",
    "QUADmodel = pipeline.fit(X, y_encoded)"
   ]
  },
  {
   "cell_type": "code",
   "execution_count": 48,
   "id": "7b8b83f2",
   "metadata": {},
   "outputs": [],
   "source": [
    "QDA_predictions = X_unknown.copy()\n",
    "QDA_predictions[\"label\"] = le.inverse_transform(QUADmodel.predict(X_unknown)).tolist()\n",
    "QDA_predictions = QDA_predictions[[\"label\"]]\n",
    "QDA_predictions.to_csv('predictions_qda.txt', index_label=\"stdid\", sep=' ')"
   ]
  },
  {
   "cell_type": "markdown",
   "id": "84821b5a",
   "metadata": {},
   "source": [
    "**Deployment of XGB Classifier model with best params and making predictions**"
   ]
  },
  {
   "cell_type": "code",
   "execution_count": 76,
   "id": "0ae684cd",
   "metadata": {},
   "outputs": [
    {
     "data": {
      "text/html": [
       "<div>\n",
       "<style scoped>\n",
       "    .dataframe tbody tr th:only-of-type {\n",
       "        vertical-align: middle;\n",
       "    }\n",
       "\n",
       "    .dataframe tbody tr th {\n",
       "        vertical-align: top;\n",
       "    }\n",
       "\n",
       "    .dataframe thead th {\n",
       "        text-align: right;\n",
       "    }\n",
       "</style>\n",
       "<table border=\"1\" class=\"dataframe\">\n",
       "  <thead>\n",
       "    <tr style=\"text-align: right;\">\n",
       "      <th></th>\n",
       "      <th>dim_results</th>\n",
       "      <th>walk_results</th>\n",
       "      <th>walk_dist_results</th>\n",
       "      <th>p_results</th>\n",
       "      <th>q_results</th>\n",
       "      <th>best_params_results</th>\n",
       "      <th>checking_overfitting</th>\n",
       "    </tr>\n",
       "  </thead>\n",
       "  <tbody>\n",
       "    <tr>\n",
       "      <th>45</th>\n",
       "      <td>8</td>\n",
       "      <td>12</td>\n",
       "      <td>10</td>\n",
       "      <td>0.5</td>\n",
       "      <td>3</td>\n",
       "      <td>{'learning_rate': 0.12052219901072066, 'max_de...</td>\n",
       "      <td>pass</td>\n",
       "    </tr>\n",
       "  </tbody>\n",
       "</table>\n",
       "</div>"
      ],
      "text/plain": [
       "    dim_results  walk_results  walk_dist_results  p_results  q_results   \n",
       "45            8            12                 10        0.5          3  \\\n",
       "\n",
       "                                  best_params_results checking_overfitting  \n",
       "45  {'learning_rate': 0.12052219901072066, 'max_de...                 pass  "
      ]
     },
     "execution_count": 76,
     "metadata": {},
     "output_type": "execute_result"
    }
   ],
   "source": [
    "res.iloc[2:3,8:]"
   ]
  },
  {
   "cell_type": "code",
   "execution_count": 50,
   "id": "440ba209",
   "metadata": {},
   "outputs": [
    {
     "data": {
      "text/plain": [
       "{'learning_rate': 0.12052219901072066,\n",
       " 'max_depth': 9,\n",
       " 'subsample': 0.9360415701197875,\n",
       " 'colsample_bytree': 0.7867526912279533,\n",
       " 'reg_alpha': 0.07221562761736805,\n",
       " 'reg_lambda': 0.8968124921684337}"
      ]
     },
     "execution_count": 50,
     "metadata": {},
     "output_type": "execute_result"
    }
   ],
   "source": [
    "res.iloc[2,-2]"
   ]
  },
  {
   "cell_type": "code",
   "execution_count": 51,
   "id": "16ad417b",
   "metadata": {},
   "outputs": [
    {
     "data": {
      "application/vnd.jupyter.widget-view+json": {
       "model_id": "748820b37e784a45a1a121e27262841b",
       "version_major": 2,
       "version_minor": 0
      },
      "text/plain": [
       "Computing transition probabilities:   0%|          | 0/348 [00:00<?, ?it/s]"
      ]
     },
     "metadata": {},
     "output_type": "display_data"
    },
    {
     "name": "stderr",
     "output_type": "stream",
     "text": [
      "Generating walks (CPU: 1): 100%|███████████████████████████████████████████████████████| 12/12 [00:00<00:00, 48.09it/s]\n"
     ]
    }
   ],
   "source": [
    "n2v = Node2Vec(new_g, dimensions=8, num_walks=12, walk_length=10, p=0.5, q=3)\n",
    "n2v_model = n2v.fit(window=4, min_count=1, batch_words=4)\n",
    "\n",
    "n2vrep = dict()\n",
    "for node in new_g.nodes():\n",
    "    n2vrep[node] = n2v_model.wv[str(node)]\n",
    "df_n2v = pd.DataFrame(n2vrep).T\n",
    "\n",
    "feat_ext = RecursiveFeatureExtractor(new_g, max_generations=5)\n",
    "rolx_feats = feat_ext.extract_features()\n",
    "df_feats_all = pd.merge(df_n2v, rolx_feats, left_index=True, right_index=True)\n",
    "\n",
    "df_feats_all.index = df_feats_all.index.astype(np.int64, copy=True)\n",
    "df_data = pd.merge(df_feats_all, labels, left_index=True, right_index=True)\n",
    "df_data.columns = df_data.columns.astype(str)\n",
    "\n",
    "my_features_df.index = my_features_df.index.astype(np.int64, copy=True)\n",
    "kitchen_sink_df = pd.merge(df_data, my_features_df, left_index=True, right_index=True)\n",
    "\n",
    "unknowns = kitchen_sink_df[kitchen_sink_df.label=='unknown']\n",
    "raw_df = kitchen_sink_df[kitchen_sink_df.label!='unknown']\n",
    "\n",
    "X = raw_df.drop(columns=['label'])\n",
    "y = raw_df.label\n",
    "X_unknown=unknowns.drop(columns=['label'])\n",
    "\n",
    "le = LabelEncoder()\n",
    "y_encoded = le.fit_transform(y)\n",
    "\n",
    "pipeline = Pipeline([\n",
    "                    ('preprocessor',  StandardScaler()),\n",
    "                    ('DropConstant',  DropConstantFeatures(tol=0.99)),\n",
    "                    ('DropDuplicate', DropDuplicateFeatures()),\n",
    "                    ('DropCorr',      DropCorrelatedFeatures(threshold=0.90)),\n",
    "                    ('DropSmart',     SmartCorrelatedSelection(threshold=0.80, cv=3)),\n",
    "                    ('selector',      RFECV(estimator=estimator,scoring=scoring)),\n",
    "                    ('classifier',    XGBClassifier(learning_rate=0.12052219901072066,\n",
    "                                                    max_depth=9,\n",
    "                                                    subsample=0.9360415701197875,\n",
    "                                                    colsample_bytree=0.7867526912279533,\n",
    "                                                    reg_alpha=0.07221562761736805,\n",
    "                                                    reg_lambda=0.8968124921684337))])\n",
    "\n",
    "\n",
    "XGBmodel = pipeline.fit(X, y_encoded)"
   ]
  },
  {
   "cell_type": "code",
   "execution_count": 52,
   "id": "24990e25",
   "metadata": {},
   "outputs": [],
   "source": [
    "xgb_predictions = X_unknown.copy()\n",
    "xgb_predictions[\"label\"] = le.inverse_transform(XGBmodel.predict(X_unknown)).tolist()\n",
    "xgb_predictions = xgb_predictions[[\"label\"]]\n",
    "xgb_predictions.to_csv('predictions_xgb.txt', index_label=\"stdid\", sep=' ')"
   ]
  },
  {
   "cell_type": "markdown",
   "id": "aa8d0ba4",
   "metadata": {},
   "source": [
    "**Deployment of RandomForestClassifier model with best params and making predictions**"
   ]
  },
  {
   "cell_type": "code",
   "execution_count": 77,
   "id": "38403b79",
   "metadata": {},
   "outputs": [
    {
     "data": {
      "text/html": [
       "<div>\n",
       "<style scoped>\n",
       "    .dataframe tbody tr th:only-of-type {\n",
       "        vertical-align: middle;\n",
       "    }\n",
       "\n",
       "    .dataframe tbody tr th {\n",
       "        vertical-align: top;\n",
       "    }\n",
       "\n",
       "    .dataframe thead th {\n",
       "        text-align: right;\n",
       "    }\n",
       "</style>\n",
       "<table border=\"1\" class=\"dataframe\">\n",
       "  <thead>\n",
       "    <tr style=\"text-align: right;\">\n",
       "      <th></th>\n",
       "      <th>dim_results</th>\n",
       "      <th>walk_results</th>\n",
       "      <th>walk_dist_results</th>\n",
       "      <th>p_results</th>\n",
       "      <th>q_results</th>\n",
       "      <th>best_params_results</th>\n",
       "      <th>checking_overfitting</th>\n",
       "    </tr>\n",
       "  </thead>\n",
       "  <tbody>\n",
       "    <tr>\n",
       "      <th>4</th>\n",
       "      <td>8</td>\n",
       "      <td>12</td>\n",
       "      <td>8</td>\n",
       "      <td>0.5</td>\n",
       "      <td>2</td>\n",
       "      <td>{'n_estimators': 171, 'max_depth': 5, 'min_sam...</td>\n",
       "      <td>pass</td>\n",
       "    </tr>\n",
       "  </tbody>\n",
       "</table>\n",
       "</div>"
      ],
      "text/plain": [
       "   dim_results  walk_results  walk_dist_results  p_results  q_results   \n",
       "4            8            12                  8        0.5          2  \\\n",
       "\n",
       "                                 best_params_results checking_overfitting  \n",
       "4  {'n_estimators': 171, 'max_depth': 5, 'min_sam...                 pass  "
      ]
     },
     "execution_count": 77,
     "metadata": {},
     "output_type": "execute_result"
    }
   ],
   "source": [
    "res.iloc[3:4,8:]"
   ]
  },
  {
   "cell_type": "code",
   "execution_count": 54,
   "id": "a01d80ca",
   "metadata": {},
   "outputs": [
    {
     "data": {
      "text/plain": [
       "{'n_estimators': 171,\n",
       " 'max_depth': 5,\n",
       " 'min_samples_split': 7,\n",
       " 'min_samples_leaf': 3,\n",
       " 'max_features': 'auto'}"
      ]
     },
     "execution_count": 54,
     "metadata": {},
     "output_type": "execute_result"
    }
   ],
   "source": [
    "res.iloc[3,-2]"
   ]
  },
  {
   "cell_type": "code",
   "execution_count": 55,
   "id": "0992ca57",
   "metadata": {},
   "outputs": [
    {
     "data": {
      "application/vnd.jupyter.widget-view+json": {
       "model_id": "8d63f2329bf24e72b4b060d4bdec5a7c",
       "version_major": 2,
       "version_minor": 0
      },
      "text/plain": [
       "Computing transition probabilities:   0%|          | 0/348 [00:00<?, ?it/s]"
      ]
     },
     "metadata": {},
     "output_type": "display_data"
    },
    {
     "name": "stderr",
     "output_type": "stream",
     "text": [
      "Generating walks (CPU: 1): 100%|███████████████████████████████████████████████████████| 12/12 [00:00<00:00, 54.75it/s]\n"
     ]
    }
   ],
   "source": [
    "n2v = Node2Vec(new_g, dimensions=8, num_walks=12, walk_length=8, p=0.5, q=2)\n",
    "n2v_model = n2v.fit(window=4, min_count=1, batch_words=4)\n",
    "\n",
    "n2vrep = dict()\n",
    "for node in new_g.nodes():\n",
    "    n2vrep[node] = n2v_model.wv[str(node)]\n",
    "df_n2v = pd.DataFrame(n2vrep).T\n",
    "\n",
    "feat_ext = RecursiveFeatureExtractor(new_g, max_generations=5)\n",
    "rolx_feats = feat_ext.extract_features()\n",
    "df_feats_all = pd.merge(df_n2v, rolx_feats, left_index=True, right_index=True)\n",
    "\n",
    "df_feats_all.index = df_feats_all.index.astype(np.int64, copy=True)\n",
    "df_data = pd.merge(df_feats_all, labels, left_index=True, right_index=True)\n",
    "df_data.columns = df_data.columns.astype(str)\n",
    "\n",
    "my_features_df.index = my_features_df.index.astype(np.int64, copy=True)\n",
    "kitchen_sink_df = pd.merge(df_data, my_features_df, left_index=True, right_index=True)\n",
    "\n",
    "unknowns = kitchen_sink_df[kitchen_sink_df.label=='unknown']\n",
    "raw_df = kitchen_sink_df[kitchen_sink_df.label!='unknown']\n",
    "\n",
    "X = raw_df.drop(columns=['label'])\n",
    "y = raw_df.label\n",
    "X_unknown=unknowns.drop(columns=['label'])\n",
    "\n",
    "le = LabelEncoder()\n",
    "y_encoded = le.fit_transform(y)\n",
    "\n",
    "pipeline = Pipeline([\n",
    "                    ('preprocessor',  StandardScaler()),\n",
    "                    ('DropConstant',  DropConstantFeatures(tol=0.99)),\n",
    "                    ('DropDuplicate', DropDuplicateFeatures()),\n",
    "                    ('DropCorr',      DropCorrelatedFeatures(threshold=0.90)),\n",
    "                    ('DropSmart',     SmartCorrelatedSelection(threshold=0.80, cv=3)),\n",
    "                    ('selector',      RFECV(estimator=estimator,scoring=scoring)),\n",
    "                    ('classifier',    RandomForestClassifier(n_estimators=171,\n",
    "                                                             max_depth=5,\n",
    "                                                             min_samples_split=7,\n",
    "                                                             min_samples_leaf=3,\n",
    "                                                             max_features=\"auto\"))])\n",
    "\n",
    "\n",
    "random_forest_model = pipeline.fit(X, y_encoded)"
   ]
  },
  {
   "cell_type": "code",
   "execution_count": 56,
   "id": "b7ab9e90",
   "metadata": {},
   "outputs": [],
   "source": [
    "randomforest_predictions = X_unknown.copy()\n",
    "randomforest_predictions[\"label\"] = le.inverse_transform(random_forest_model.predict(X_unknown)).tolist()\n",
    "randomforest_predictions = randomforest_predictions[[\"label\"]]\n",
    "randomforest_predictions.to_csv('predictions_random_forest.txt', index_label=\"stdid\", sep=' ')"
   ]
  },
  {
   "cell_type": "markdown",
   "id": "e467437b",
   "metadata": {},
   "source": [
    "**Saving Models:**"
   ]
  },
  {
   "cell_type": "code",
   "execution_count": 59,
   "id": "75a64b88",
   "metadata": {},
   "outputs": [],
   "source": [
    "import pickle\n",
    "\n",
    "filename = 'mlp_deployed_model.ncmodel'\n",
    "pickle.dump(MLPClassifiermodel, open(filename,'wb'))"
   ]
  },
  {
   "cell_type": "code",
   "execution_count": 61,
   "id": "098cf78e",
   "metadata": {},
   "outputs": [],
   "source": [
    "filename = 'qda_deployed_model.ncmodel'\n",
    "pickle.dump(QUADmodel, open(filename,'wb'))\n",
    "\n",
    "filename = 'xgb_deployed_model.ncmodel'\n",
    "pickle.dump(XGBmodel, open(filename,'wb'))\n",
    "\n",
    "filename = 'rf_deployed_model.ncmodel'\n",
    "pickle.dump(random_forest_model, open(filename,'wb'))"
   ]
  }
 ],
 "metadata": {
  "kernelspec": {
   "display_name": "Python 3 (ipykernel)",
   "language": "python",
   "name": "python3"
  },
  "language_info": {
   "codemirror_mode": {
    "name": "ipython",
    "version": 3
   },
   "file_extension": ".py",
   "mimetype": "text/x-python",
   "name": "python",
   "nbconvert_exporter": "python",
   "pygments_lexer": "ipython3",
   "version": "3.9.12"
  }
 },
 "nbformat": 4,
 "nbformat_minor": 5
}
